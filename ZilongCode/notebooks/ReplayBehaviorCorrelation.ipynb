{
 "cells": [
  {
   "cell_type": "code",
   "execution_count": 14,
   "metadata": {},
   "outputs": [],
   "source": [
    "%matplotlib inline"
   ]
  },
  {
   "cell_type": "code",
   "execution_count": 2,
   "metadata": {},
   "outputs": [],
   "source": [
    "\n",
    "import os\n",
    "import numpy as np\n",
    "import xarray as xr\n",
    "import matplotlib.pyplot as plt\n",
    "import seaborn as sns\n",
    "import pandas as pd\n",
    "from scipy import signal\n",
    "import pickle\n",
    "\n",
    "import os\n",
    "import pdb\n",
    "from loren_frank_data_processing import (make_epochs_dataframe,\n",
    "                                         make_neuron_dataframe)\n",
    "from src.parameters import (ANIMALS, MAX_N_EXPOSURES, MIN_N_NEURONS)\n",
    "\n",
    "from scripts.run_by_epoch import clusterless_thetasweeps\n",
    "from tqdm.auto import tqdm\n",
    "\n",
    "from scipy.stats import spearmanr, pearsonr\n",
    "from scipy.signal import hilbert"
   ]
  },
  {
   "cell_type": "code",
   "execution_count": 63,
   "metadata": {},
   "outputs": [],
   "source": [
    "def get_steps(Replay_traj, timeb=1):\n",
    "    '''\n",
    "    Get the levy exponent for replay trajectory\n",
    "    Input \n",
    "        (dictionary): Replay_traj\n",
    "        (int): time bin\n",
    "    Output:\n",
    "        (numpy array): all_steps for all ripple events\n",
    "    \n",
    "    '''\n",
    "    #initialze an empty numpy array\n",
    "    all_steps = []\n",
    "\n",
    "    keys = Replay_traj.keys()\n",
    "    for key in keys:\n",
    "        #get the replay trajectory for each ripple events\n",
    "        ripple_traj = Replay_traj[key]\n",
    "        traj_step = np.abs(np.diff(ripple_traj[::timeb]))\n",
    "        #concatenate the steps for all ripple events\n",
    "        all_steps = np.concatenate((all_steps, traj_step))\n",
    "    \n",
    "    return all_steps\n",
    "\n",
    "#log-log plot of the average step size against time bins\n",
    "def get_exponent(Replay_traj, plot=True): \n",
    "    \n",
    "    #return plt\n",
    "    all_timebins = np.arange(1,20,1)\n",
    "    all_avg_steps = []\n",
    "    for timeb in all_timebins:\n",
    "        #print(timeb)\n",
    "        all_steps = get_steps(Replay_traj, timeb)\n",
    "        #get the average step size for each time bin\n",
    "        avg_step = np.mean(all_steps)\n",
    "        all_avg_steps.append(avg_step)\n",
    "    #get the slope of the log-log plot\n",
    "    slope, intercept = np.polyfit(np.log(all_timebins), np.log(all_avg_steps), 1)\n",
    "    \n",
    "    #print('The slope of the log-log plot is %.2f'%slope)\n",
    "    if plot:\n",
    "        fig, ax = plt.subplots(1,1, figsize=(3,3))\n",
    "        #plot the log-log plot and add the slope as a lagend\n",
    "        ax.plot(all_timebins, all_avg_steps, 'o', color='black')\n",
    "        ax.plot(all_timebins, np.exp(intercept)*all_timebins**slope, 'r-', label='slope = %.2f'%slope)  \n",
    "        ax.set_xscale('log')\n",
    "        ax.set_yscale('log')\n",
    "        ax.set_xlabel('Time bins')\n",
    "        ax.set_ylabel('Average step size')\n",
    "        ax.legend()\n",
    "        #set both ticks to [0,10]\n",
    "        ax.set_xticks([1,10])\n",
    "        ax.set_yticks([1,10])\n",
    "        return fig, ax, slope\n",
    "    else:\n",
    "        return slope\n",
    "       "
   ]
  },
  {
   "cell_type": "code",
   "execution_count": 4,
   "metadata": {},
   "outputs": [],
   "source": [
    "epoch_info = make_epochs_dataframe(ANIMALS)\n",
    "neuron_info = make_neuron_dataframe(ANIMALS)\n",
    "n_neurons = (neuron_info\n",
    "                .groupby(['animal', 'day', 'epoch'])\n",
    "                .neuron_id\n",
    "                .agg(len)\n",
    "                .rename('n_neurons')\n",
    "                .to_frame())\n",
    "\n",
    "epoch_info = epoch_info.join(n_neurons)\n",
    "is_w_track = (epoch_info.environment\n",
    "                .isin(['TrackA', 'TrackB', 'WTrackA', 'WTrackB']))"
   ]
  },
  {
   "cell_type": "markdown",
   "metadata": {},
   "source": [
    "## Get replay and behavior levy exponent for animal bon"
   ]
  },
  {
   "cell_type": "code",
   "execution_count": 68,
   "metadata": {},
   "outputs": [],
   "source": [
    "def get_run_replay_exponent(epoch_key, DATA_DIR):\n",
    "    '''\n",
    "    Get the run exponent for each epoch\n",
    "    '''\n",
    "    \n",
    "    animal, day, epoch = epoch_key\n",
    "    \n",
    "    with open(os.path.join(DATA_DIR, 'ThetaSweepTrajectories_all', f'{animal}_{day:02d}_{epoch:02d}_data.pkl'), 'rb') as f:\n",
    "        data = pickle.load(f)\n",
    "\n",
    "    #get the Outbound run snippets\n",
    "    outbound_trials = data['position_info'][data['position_info'].task=='Outbound']\n",
    "    #split the outbound_trials if successive time bins are more than 10 second apart\n",
    "    split_outbound_trials = np.split(outbound_trials, np.where(np.diff(outbound_trials.index) > np.timedelta64(10, 's'))[0]+1)\n",
    "\n",
    "    #get the Inbound run snippets\n",
    "    inbound_trials = data['position_info'][data['position_info'].task=='Inbound']\n",
    "    #split the inbound_trials if successive time bins are more than 10 second apart\n",
    "    split_inbound_trials = np.split(inbound_trials, np.where(np.diff(inbound_trials.index) > np.timedelta64(10, 's'))[0]+1)\n",
    "\n",
    "    #save each split as a dictionary, key is the number of the split, value is the linear_distance\n",
    "    #first outbound the  inbound, but save into a same dictionary\n",
    "    trajectory_dict = {}\n",
    "    for i in range(len(split_outbound_trials)):\n",
    "        #downsample split_outbound_trials[i].linear_distance.values to 1/10\n",
    "        trajectory_dict[i] = split_outbound_trials[i].linear_distance.values[::10]\n",
    "    for i in range(len(split_inbound_trials)):\n",
    "        trajectory_dict[i+len(split_outbound_trials)] = split_inbound_trials[i].linear_distance.values[::10]\n",
    "        \n",
    "    run_slope = get_exponent(trajectory_dict, plot=False)\n",
    "    \n",
    "    trajectory_dict_nosplit = {}\n",
    "    trajectory_dict_nosplit[0] = data['position_info'].linear_distance.values[::10]\n",
    "    run_slope_nosplit = get_exponent(trajectory_dict_nosplit, plot=False)\n",
    "    \n",
    "    #get replay \n",
    "    with open(os.path.join(DATA_DIR, 'ReplayTrajectories_all', f'{animal}_{day:02d}_{epoch:02d}_traj.pkl'), 'rb') as f:\n",
    "        Replay_traj = pickle.load(f)\n",
    "        \n",
    "    replay_slope = get_exponent(Replay_traj, plot=False)\n",
    "    \n",
    "    return run_slope, run_slope_nosplit, replay_slope\n"
   ]
  },
  {
   "cell_type": "code",
   "execution_count": 71,
   "metadata": {},
   "outputs": [
    {
     "data": {
      "application/vnd.jupyter.widget-view+json": {
       "model_id": "750de0a473de4eceb6a5859dbdaa0c48",
       "version_major": 2,
       "version_minor": 0
      },
      "text/plain": [
       "epochs:   0%|          | 0/24 [00:00<?, ?it/s]"
      ]
     },
     "metadata": {},
     "output_type": "display_data"
    },
    {
     "name": "stdout",
     "output_type": "stream",
     "text": [
      "Animal: bon, Day: 3, Epoch: 2\n",
      "Animal: bon, Day: 3, Epoch: 4\n",
      "Animal: bon, Day: 3, Epoch: 6\n",
      "Animal: bon, Day: 4, Epoch: 2\n",
      "Animal: bon, Day: 4, Epoch: 4\n",
      "Animal: bon, Day: 4, Epoch: 6\n",
      "Animal: bon, Day: 5, Epoch: 2\n",
      "Animal: bon, Day: 5, Epoch: 4\n",
      "Animal: bon, Day: 5, Epoch: 6\n",
      "Animal: bon, Day: 6, Epoch: 2\n",
      "Animal: bon, Day: 6, Epoch: 4\n",
      "Animal: bon, Day: 6, Epoch: 6\n",
      "Animal: bon, Day: 7, Epoch: 2\n",
      "Animal: bon, Day: 7, Epoch: 4\n",
      "Animal: bon, Day: 7, Epoch: 6\n",
      "Animal: bon, Day: 8, Epoch: 2\n",
      "Animal: bon, Day: 8, Epoch: 4\n",
      "Animal: bon, Day: 8, Epoch: 6\n",
      "Animal: bon, Day: 9, Epoch: 2\n",
      "Animal: bon, Day: 9, Epoch: 4\n",
      "Animal: bon, Day: 9, Epoch: 6\n",
      "Animal: bon, Day: 10, Epoch: 2\n",
      "Animal: bon, Day: 10, Epoch: 4\n",
      "Animal: bon, Day: 10, Epoch: 6\n"
     ]
    }
   ],
   "source": [
    "DATA_DIR = '/media/zilong/4TB Storage HDD/ReplayTrajectoryAnalysis'\n",
    "\n",
    "is_animal = epoch_info.index.isin(['bon'], level='animal')\n",
    "\n",
    "valid_epochs = (is_w_track &\n",
    "                (epoch_info.n_neurons > MIN_N_NEURONS) &\n",
    "                (epoch_info.exposure <= MAX_N_EXPOSURES) &\n",
    "                is_animal\n",
    "                )\n",
    "\n",
    "RunEXP = []\n",
    "ReplayExp = []\n",
    "RunEXP_nosplit = []\n",
    "for epoch_key in tqdm(epoch_info[valid_epochs].index, desc='epochs'):\n",
    "    animal, day, epoch = epoch_key\n",
    "    print(f'Animal: {animal}, Day: {day}, Epoch: {epoch}')\n",
    "    \n",
    "    run_exp, run_exp_nosplit, replay_exp = get_run_replay_exponent(epoch_key, DATA_DIR)\n",
    "    RunEXP.append(run_exp)\n",
    "    ReplayExp.append(replay_exp)\n",
    "    RunEXP_nosplit.append(run_exp_nosplit)\n",
    "    \n",
    "RunEXP = np.array(RunEXP)\n",
    "ReplayExp = np.array(ReplayExp)\n",
    "RunEXP_nosplit = np.array(RunEXP_nosplit)\n",
    "    "
   ]
  },
  {
   "cell_type": "code",
   "execution_count": 73,
   "metadata": {},
   "outputs": [
    {
     "data": {
      "text/plain": [
       "Text(0, 0.5, 'Replay exponent')"
      ]
     },
     "execution_count": 73,
     "metadata": {},
     "output_type": "execute_result"
    },
    {
     "data": {
      "image/png": "[encoded data removed]",
      "text/plain": [
       "<Figure size 216x216 with 1 Axes>"
      ]
     },
     "metadata": {
      "needs_background": "light"
     },
     "output_type": "display_data"
    }
   ],
   "source": [
    "#plot run exponent against replay exponent\n",
    "fig, ax = plt.subplots(1,1, figsize=(3,3))\n",
    "ax.plot(RunEXP, ReplayExp, 'o', color='black')\n",
    "ax.set_xlabel('Run exponent')\n",
    "ax.set_ylabel('Replay exponent')"
   ]
  },
  {
   "cell_type": "code",
   "execution_count": 74,
   "metadata": {},
   "outputs": [
    {
     "data": {
      "text/plain": [
       "Text(0, 0.5, 'Replay exponent')"
      ]
     },
     "execution_count": 74,
     "metadata": {},
     "output_type": "execute_result"
    },
    {
     "data": {
      "image/png": "[encoded data removed]",
      "text/plain": [
       "<Figure size 216x216 with 1 Axes>"
      ]
     },
     "metadata": {
      "needs_background": "light"
     },
     "output_type": "display_data"
    }
   ],
   "source": [
    "#plot run exponent against replay exponent\n",
    "fig, ax = plt.subplots(1,1, figsize=(3,3))\n",
    "ax.plot(RunEXP_nosplit, ReplayExp, 'o', color='black')\n",
    "ax.set_xlabel('Run exponent no split')\n",
    "ax.set_ylabel('Replay exponent')"
   ]
  },
  {
   "cell_type": "code",
   "execution_count": 72,
   "metadata": {},
   "outputs": [
    {
     "data": {
      "text/plain": [
       "array([0.91052199, 0.92069141, 0.92358362, 0.90724663, 0.93027745,\n",
       "       0.9049064 , 0.93993978, 0.94460851, 0.93507656, 0.94792669,\n",
       "       0.95090031, 0.94626899, 0.95146708, 0.960969  , 0.95555793,\n",
       "       0.95663483, 0.95482951, 0.94766569, 0.95546218, 0.96311525,\n",
       "       0.94633135, 0.96109611, 0.96944176, 0.94862238])"
      ]
     },
     "execution_count": 72,
     "metadata": {},
     "output_type": "execute_result"
    }
   ],
   "source": [
    "RunEXP_nosplit"
   ]
  },
  {
   "cell_type": "code",
   "execution_count": null,
   "metadata": {},
   "outputs": [],
   "source": []
  }
 ],
 "metadata": {
  "kernelspec": {
   "display_name": "replay_trajectory_paper",
   "language": "python",
   "name": "python3"
  },
  "language_info": {
   "codemirror_mode": {
    "name": "ipython",
    "version": 3
   },
   "file_extension": ".py",
   "mimetype": "text/x-python",
   "name": "python",
   "nbconvert_exporter": "python",
   "pygments_lexer": "ipython3",
   "version": "3.6.13"
  },
  "orig_nbformat": 4
 },
 "nbformat": 4,
 "nbformat_minor": 2
}
