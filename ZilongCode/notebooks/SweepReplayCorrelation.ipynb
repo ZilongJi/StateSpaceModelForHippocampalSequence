{
 "cells": [
  {
   "cell_type": "code",
   "execution_count": 32,
   "metadata": {},
   "outputs": [],
   "source": [
    "%matplotlib inline"
   ]
  },
  {
   "cell_type": "code",
   "execution_count": 33,
   "metadata": {},
   "outputs": [],
   "source": [
    "import os\n",
    "import numpy as np\n",
    "import xarray as xr\n",
    "import matplotlib.pyplot as plt\n",
    "import seaborn as sns\n",
    "import pandas as pd\n",
    "from scipy import signal\n",
    "import pickle\n",
    "\n",
    "import os\n",
    "import pdb\n",
    "from loren_frank_data_processing import (make_epochs_dataframe,\n",
    "                                         make_neuron_dataframe)\n",
    "from src.parameters import (ANIMALS, MAX_N_EXPOSURES, MIN_N_NEURONS)\n",
    "\n",
    "from scripts.run_by_epoch import clusterless_thetasweeps\n",
    "from tqdm.auto import tqdm"
   ]
  },
  {
   "cell_type": "code",
   "execution_count": 8,
   "metadata": {},
   "outputs": [],
   "source": [
    "def get_levy_exponent(Replay_traj):\n",
    "    '''\n",
    "    Get the levy exponent for replay trajectory\n",
    "    Input (dictionary): Replay_traj\n",
    "    '''\n",
    "    #initialze an empty numpy array\n",
    "    all_steps = []\n",
    "\n",
    "    keys = Replay_traj.keys()\n",
    "    for key in keys:\n",
    "        #get the replay trajectory for each ripple events\n",
    "        ripple_traj = Replay_traj[key]\n",
    "        traj_step = np.abs(np.diff(ripple_traj[::1]))\n",
    "        #concatenate the steps for all ripple events\n",
    "        all_steps = np.concatenate((all_steps, traj_step))\n",
    "    \n",
    "    return all_steps"
   ]
  },
  {
   "cell_type": "code",
   "execution_count": 9,
   "metadata": {},
   "outputs": [],
   "source": [
    "epoch_info = make_epochs_dataframe(ANIMALS)\n",
    "neuron_info = make_neuron_dataframe(ANIMALS)\n",
    "n_neurons = (neuron_info\n",
    "                .groupby(['animal', 'day', 'epoch'])\n",
    "                .neuron_id\n",
    "                .agg(len)\n",
    "                .rename('n_neurons')\n",
    "                .to_frame())\n",
    "\n",
    "epoch_info = epoch_info.join(n_neurons)\n",
    "is_w_track = (epoch_info.environment\n",
    "                .isin(['TrackA', 'TrackB', 'WTrackA', 'WTrackB']))\n",
    "#is_animal = epoch_info.index.isin(['bon', 'fra', 'gov', 'dud', 'con'], level='animal')\n",
    "is_animal = epoch_info.index.isin(['bon'], level='animal')\n",
    "\n",
    "valid_epochs = (is_w_track &\n",
    "                (epoch_info.n_neurons > MIN_N_NEURONS) &\n",
    "                (epoch_info.exposure <= MAX_N_EXPOSURES) &\n",
    "                is_animal\n",
    "                )"
   ]
  },
  {
   "cell_type": "code",
   "execution_count": 18,
   "metadata": {},
   "outputs": [
    {
     "name": "stderr",
     "output_type": "stream",
     "text": [
      "epochs:   0%|          | 0/24 [00:00<?, ?it/s]"
     ]
    },
    {
     "name": "stdout",
     "output_type": "stream",
     "text": [
      "Animal: bon, Day: 3, Epoch: 2\n"
     ]
    },
    {
     "name": "stderr",
     "output_type": "stream",
     "text": [
      "epochs:   4%|▍         | 1/24 [00:02<00:57,  2.48s/it]"
     ]
    },
    {
     "name": "stdout",
     "output_type": "stream",
     "text": [
      "Average sweep length: <xarray.DataArray 'mental_distance_from_actual_position' ()>\n",
      "array(22.2884689)\n",
      "Ratio of steps that are out of three standard deviations: 0.014697876973326075\n",
      "Animal: bon, Day: 3, Epoch: 4\n"
     ]
    },
    {
     "name": "stderr",
     "output_type": "stream",
     "text": [
      "epochs:   8%|▊         | 2/24 [00:04<00:48,  2.19s/it]"
     ]
    },
    {
     "name": "stdout",
     "output_type": "stream",
     "text": [
      "Average sweep length: <xarray.DataArray 'mental_distance_from_actual_position' ()>\n",
      "array(11.76425779)\n",
      "Ratio of steps that are out of three standard deviations: 0.016070222822417286\n",
      "Animal: bon, Day: 3, Epoch: 6\n"
     ]
    },
    {
     "name": "stderr",
     "output_type": "stream",
     "text": [
      "epochs:  12%|█▎        | 3/24 [00:06<00:45,  2.17s/it]"
     ]
    },
    {
     "name": "stdout",
     "output_type": "stream",
     "text": [
      "Average sweep length: <xarray.DataArray 'mental_distance_from_actual_position' ()>\n",
      "array(16.99002008)\n",
      "Ratio of steps that are out of three standard deviations: 0.05273933338792892\n",
      "Animal: bon, Day: 4, Epoch: 2\n"
     ]
    },
    {
     "name": "stderr",
     "output_type": "stream",
     "text": [
      "epochs:  17%|█▋        | 4/24 [00:08<00:41,  2.10s/it]"
     ]
    },
    {
     "name": "stdout",
     "output_type": "stream",
     "text": [
      "Average sweep length: <xarray.DataArray 'mental_distance_from_actual_position' ()>\n",
      "array(15.56047097)\n",
      "Ratio of steps that are out of three standard deviations: 0.01463860933211345\n",
      "Animal: bon, Day: 4, Epoch: 4\n"
     ]
    },
    {
     "name": "stderr",
     "output_type": "stream",
     "text": [
      "epochs:  21%|██        | 5/24 [00:11<00:42,  2.23s/it]"
     ]
    },
    {
     "name": "stdout",
     "output_type": "stream",
     "text": [
      "Average sweep length: <xarray.DataArray 'mental_distance_from_actual_position' ()>\n",
      "array(14.39994842)\n",
      "Ratio of steps that are out of three standard deviations: 0.01867881548974943\n",
      "Animal: bon, Day: 4, Epoch: 6\n"
     ]
    },
    {
     "name": "stderr",
     "output_type": "stream",
     "text": [
      "epochs:  25%|██▌       | 6/24 [00:13<00:39,  2.17s/it]"
     ]
    },
    {
     "name": "stdout",
     "output_type": "stream",
     "text": [
      "Average sweep length: <xarray.DataArray 'mental_distance_from_actual_position' ()>\n",
      "array(18.156145)\n",
      "Ratio of steps that are out of three standard deviations: 0.03918507532589181\n",
      "Animal: bon, Day: 5, Epoch: 2\n"
     ]
    },
    {
     "name": "stderr",
     "output_type": "stream",
     "text": [
      "epochs:  29%|██▉       | 7/24 [00:15<00:39,  2.33s/it]"
     ]
    },
    {
     "name": "stdout",
     "output_type": "stream",
     "text": [
      "Average sweep length: <xarray.DataArray 'mental_distance_from_actual_position' ()>\n",
      "array(13.23850578)\n",
      "Ratio of steps that are out of three standard deviations: 0.01313522825150732\n",
      "Animal: bon, Day: 5, Epoch: 4\n"
     ]
    },
    {
     "name": "stderr",
     "output_type": "stream",
     "text": [
      "epochs:  33%|███▎      | 8/24 [00:18<00:37,  2.36s/it]"
     ]
    },
    {
     "name": "stdout",
     "output_type": "stream",
     "text": [
      "Average sweep length: <xarray.DataArray 'mental_distance_from_actual_position' ()>\n",
      "array(12.03582668)\n",
      "Ratio of steps that are out of three standard deviations: 0.010664123461071614\n",
      "Animal: bon, Day: 5, Epoch: 6\n"
     ]
    },
    {
     "name": "stderr",
     "output_type": "stream",
     "text": [
      "epochs:  38%|███▊      | 9/24 [00:20<00:35,  2.39s/it]"
     ]
    },
    {
     "name": "stdout",
     "output_type": "stream",
     "text": [
      "Average sweep length: <xarray.DataArray 'mental_distance_from_actual_position' ()>\n",
      "array(17.8299893)\n",
      "Ratio of steps that are out of three standard deviations: 0.051671087533156496\n",
      "Animal: bon, Day: 6, Epoch: 2\n"
     ]
    },
    {
     "name": "stderr",
     "output_type": "stream",
     "text": [
      "epochs:  42%|████▏     | 10/24 [00:23<00:33,  2.40s/it]"
     ]
    },
    {
     "name": "stdout",
     "output_type": "stream",
     "text": [
      "Average sweep length: <xarray.DataArray 'mental_distance_from_actual_position' ()>\n",
      "array(15.26332217)\n",
      "Ratio of steps that are out of three standard deviations: 0.013596059113300493\n",
      "Animal: bon, Day: 6, Epoch: 4\n"
     ]
    },
    {
     "name": "stderr",
     "output_type": "stream",
     "text": [
      "epochs:  46%|████▌     | 11/24 [00:25<00:31,  2.40s/it]"
     ]
    },
    {
     "name": "stdout",
     "output_type": "stream",
     "text": [
      "Average sweep length: <xarray.DataArray 'mental_distance_from_actual_position' ()>\n",
      "array(12.41731291)\n",
      "Ratio of steps that are out of three standard deviations: 0.022052990639378073\n",
      "Animal: bon, Day: 6, Epoch: 6\n"
     ]
    },
    {
     "name": "stderr",
     "output_type": "stream",
     "text": [
      "epochs:  50%|█████     | 12/24 [00:27<00:27,  2.30s/it]"
     ]
    },
    {
     "name": "stdout",
     "output_type": "stream",
     "text": [
      "Average sweep length: <xarray.DataArray 'mental_distance_from_actual_position' ()>\n",
      "array(19.40744284)\n",
      "Ratio of steps that are out of three standard deviations: 0.04670398529534631\n",
      "Animal: bon, Day: 7, Epoch: 2\n"
     ]
    },
    {
     "name": "stderr",
     "output_type": "stream",
     "text": [
      "epochs:  54%|█████▍    | 13/24 [00:30<00:26,  2.37s/it]"
     ]
    },
    {
     "name": "stdout",
     "output_type": "stream",
     "text": [
      "Average sweep length: <xarray.DataArray 'mental_distance_from_actual_position' ()>\n",
      "array(15.55994807)\n",
      "Ratio of steps that are out of three standard deviations: 0.014003071641521366\n",
      "Animal: bon, Day: 7, Epoch: 4\n"
     ]
    },
    {
     "name": "stderr",
     "output_type": "stream",
     "text": [
      "epochs:  58%|█████▊    | 14/24 [00:32<00:24,  2.44s/it]"
     ]
    },
    {
     "name": "stdout",
     "output_type": "stream",
     "text": [
      "Average sweep length: <xarray.DataArray 'mental_distance_from_actual_position' ()>\n",
      "array(11.7442669)\n",
      "Ratio of steps that are out of three standard deviations: 0.017733990147783252\n",
      "Animal: bon, Day: 7, Epoch: 6\n"
     ]
    },
    {
     "name": "stderr",
     "output_type": "stream",
     "text": [
      "epochs:  62%|██████▎   | 15/24 [00:34<00:21,  2.39s/it]"
     ]
    },
    {
     "name": "stdout",
     "output_type": "stream",
     "text": [
      "Average sweep length: <xarray.DataArray 'mental_distance_from_actual_position' ()>\n",
      "array(16.9197117)\n",
      "Ratio of steps that are out of three standard deviations: 0.05108885417623817\n",
      "Animal: bon, Day: 8, Epoch: 2\n"
     ]
    },
    {
     "name": "stderr",
     "output_type": "stream",
     "text": [
      "epochs:  67%|██████▋   | 16/24 [00:37<00:19,  2.38s/it]"
     ]
    },
    {
     "name": "stdout",
     "output_type": "stream",
     "text": [
      "Average sweep length: <xarray.DataArray 'mental_distance_from_actual_position' ()>\n",
      "array(12.56645469)\n",
      "Ratio of steps that are out of three standard deviations: 0.018502704241389126\n",
      "Animal: bon, Day: 8, Epoch: 4\n"
     ]
    },
    {
     "name": "stderr",
     "output_type": "stream",
     "text": [
      "epochs:  71%|███████   | 17/24 [00:39<00:16,  2.33s/it]"
     ]
    },
    {
     "name": "stdout",
     "output_type": "stream",
     "text": [
      "Average sweep length: <xarray.DataArray 'mental_distance_from_actual_position' ()>\n",
      "array(12.53054374)\n",
      "Ratio of steps that are out of three standard deviations: 0.017462881760135395\n",
      "Animal: bon, Day: 8, Epoch: 6\n"
     ]
    },
    {
     "name": "stderr",
     "output_type": "stream",
     "text": [
      "epochs:  75%|███████▌  | 18/24 [00:41<00:13,  2.29s/it]"
     ]
    },
    {
     "name": "stdout",
     "output_type": "stream",
     "text": [
      "Average sweep length: <xarray.DataArray 'mental_distance_from_actual_position' ()>\n",
      "array(13.7196317)\n",
      "Ratio of steps that are out of three standard deviations: 0.030244468064547298\n",
      "Animal: bon, Day: 9, Epoch: 2\n"
     ]
    },
    {
     "name": "stderr",
     "output_type": "stream",
     "text": [
      "epochs:  79%|███████▉  | 19/24 [00:44<00:11,  2.28s/it]"
     ]
    },
    {
     "name": "stdout",
     "output_type": "stream",
     "text": [
      "Average sweep length: <xarray.DataArray 'mental_distance_from_actual_position' ()>\n",
      "array(13.10165803)\n",
      "Ratio of steps that are out of three standard deviations: 0.022006311243979407\n",
      "Animal: bon, Day: 9, Epoch: 4\n"
     ]
    },
    {
     "name": "stderr",
     "output_type": "stream",
     "text": [
      "epochs:  83%|████████▎ | 20/24 [00:46<00:09,  2.34s/it]"
     ]
    },
    {
     "name": "stdout",
     "output_type": "stream",
     "text": [
      "Average sweep length: <xarray.DataArray 'mental_distance_from_actual_position' ()>\n",
      "array(11.79717438)\n",
      "Ratio of steps that are out of three standard deviations: 0.01785200115174201\n",
      "Animal: bon, Day: 9, Epoch: 6\n"
     ]
    },
    {
     "name": "stderr",
     "output_type": "stream",
     "text": [
      "epochs:  88%|████████▊ | 21/24 [00:48<00:06,  2.30s/it]"
     ]
    },
    {
     "name": "stdout",
     "output_type": "stream",
     "text": [
      "Average sweep length: <xarray.DataArray 'mental_distance_from_actual_position' ()>\n",
      "array(17.13021055)\n",
      "Ratio of steps that are out of three standard deviations: 0.03491046492525053\n",
      "Animal: bon, Day: 10, Epoch: 2\n"
     ]
    },
    {
     "name": "stderr",
     "output_type": "stream",
     "text": [
      "epochs:  92%|█████████▏| 22/24 [00:50<00:04,  2.30s/it]"
     ]
    },
    {
     "name": "stdout",
     "output_type": "stream",
     "text": [
      "Average sweep length: <xarray.DataArray 'mental_distance_from_actual_position' ()>\n",
      "array(12.68517656)\n",
      "Ratio of steps that are out of three standard deviations: 0.01823065028078457\n",
      "Animal: bon, Day: 10, Epoch: 4\n"
     ]
    },
    {
     "name": "stderr",
     "output_type": "stream",
     "text": [
      "epochs:  96%|█████████▌| 23/24 [00:53<00:02,  2.32s/it]"
     ]
    },
    {
     "name": "stdout",
     "output_type": "stream",
     "text": [
      "Average sweep length: <xarray.DataArray 'mental_distance_from_actual_position' ()>\n",
      "array(10.50598165)\n",
      "Ratio of steps that are out of three standard deviations: 0.018861523848293642\n",
      "Animal: bon, Day: 10, Epoch: 6\n"
     ]
    },
    {
     "name": "stderr",
     "output_type": "stream",
     "text": [
      "epochs: 100%|██████████| 24/24 [00:55<00:00,  2.32s/it]"
     ]
    },
    {
     "name": "stdout",
     "output_type": "stream",
     "text": [
      "Average sweep length: <xarray.DataArray 'mental_distance_from_actual_position' ()>\n",
      "array(14.22608031)\n",
      "Ratio of steps that are out of three standard deviations: 0.0341726618705036\n"
     ]
    },
    {
     "name": "stderr",
     "output_type": "stream",
     "text": [
      "\n"
     ]
    }
   ],
   "source": [
    "DATA_DIR = '/home/zilong/Desktop/replay_trajectory_paper/Processed-Data'\n",
    "\n",
    "sweep_len = []\n",
    "replay_ratio = []\n",
    "for epoch_key in tqdm(epoch_info[valid_epochs].index, desc='epochs'):\n",
    "    animal, day, epoch = epoch_key\n",
    "    print(f'Animal: {animal}, Day: {day}, Epoch: {epoch}')\n",
    "    \n",
    "    #1, LOAD THETA SWEEPS RESULTS\n",
    "    \n",
    "    #load the classifier results\n",
    "    cv_classifier_clusterless_results = xr.open_dataset(os.path.join(DATA_DIR, 'ThetaSweepTrajectories', f'{animal}_{day:02d}_{epoch:02d}_cv_classifier_clusterless_results.nc'))\n",
    "    #load the data with pickle\n",
    "    with open(os.path.join(DATA_DIR, 'ThetaSweepTrajectories', f'{animal}_{day:02d}_{epoch:02d}_data.pkl'), 'rb') as f:\n",
    "        data = pickle.load(f)\n",
    "        \n",
    "    #get the average sweep length\n",
    "    #extract speed from data and threshold it with 10 cm/s\n",
    "    speed = data['position_info'].speed.values\n",
    "    is_running = speed > 10\n",
    "\n",
    "    sweeps_dist_in_running = cv_classifier_clusterless_results.mental_distance_from_actual_position[is_running]\n",
    "\n",
    "    #print the average sweep length\n",
    "    print(f'Average sweep length: {np.mean(sweeps_dist_in_running)}')\n",
    "    sweep_len.append(np.mean(sweeps_dist_in_running).values)\n",
    "    \n",
    "    #2, LOAD REPLAY RESULTS\n",
    "    #load the dictionary from the 'ReplayTrajectories' folder under PROCESSED_DATA_DIR using pickle\n",
    "    with open(os.path.join(DATA_DIR, 'ReplayTrajectories', f'{animal}_{day:02d}_{epoch:02d}_traj.pkl'), 'rb') as f:\n",
    "        Replay_traj = pickle.load(f)\n",
    "        \n",
    "    steps = get_levy_exponent(Replay_traj)\n",
    "    \n",
    "    #Count the ratio of steps that are out of three standard deviations\n",
    "    #get the mean and standard deviation of the steps\n",
    "    mean = np.mean(steps)\n",
    "    std = np.std(steps)\n",
    "    #get the number of steps that are out of three standard deviations\n",
    "    n_outlier = np.sum(np.abs(steps-mean)>2*std)\n",
    "    #get the ratio and print mean and standard deviation as well\n",
    "    ratio = n_outlier/len(steps)\n",
    "    print(f'Ratio of steps that are out of three standard deviations: {ratio}')\n",
    "    \n",
    "    replay_ratio.append(ratio)\n",
    "        \n",
    "        "
   ]
  },
  {
   "cell_type": "code",
   "execution_count": 34,
   "metadata": {},
   "outputs": [
    {
     "data": {
      "image/png": "[encoded data removed]",
      "text/plain": [
       "<Figure size 720x720 with 1 Axes>"
      ]
     },
     "metadata": {
      "needs_background": "light"
     },
     "output_type": "display_data"
    }
   ],
   "source": [
    "#plot sweep_len against replay_ratio\n",
    "plt.figure(figsize=(10,10))\n",
    "plt.scatter(np.array(sweep_len), np.array(replay_ratio))\n",
    "plt.xlabel('Average sweep length')\n",
    "plt.ylabel('Ratio of steps that are out of three standard deviations')\n",
    "plt.show()\n",
    "    \n",
    "\n"
   ]
  },
  {
   "cell_type": "code",
   "execution_count": 37,
   "metadata": {},
   "outputs": [],
   "source": [
    "speed_info = data['position_info'].speed\n",
    "\n",
    "#save the speed_info, which is pandas.core.series.Series\n",
    "speed_info.to_pickle(os.path.join(DATA_DIR, 'speed_info.pkl'))\n"
   ]
  },
  {
   "cell_type": "code",
   "execution_count": null,
   "metadata": {},
   "outputs": [],
   "source": []
  }
 ],
 "metadata": {
  "kernelspec": {
   "display_name": "replay_trajectory_paper",
   "language": "python",
   "name": "python3"
  },
  "language_info": {
   "codemirror_mode": {
    "name": "ipython",
    "version": 3
   },
   "file_extension": ".py",
   "mimetype": "text/x-python",
   "name": "python",
   "nbconvert_exporter": "python",
   "pygments_lexer": "ipython3",
   "version": "3.6.13"
  },
  "orig_nbformat": 4
 },
 "nbformat": 4,
 "nbformat_minor": 2
}
