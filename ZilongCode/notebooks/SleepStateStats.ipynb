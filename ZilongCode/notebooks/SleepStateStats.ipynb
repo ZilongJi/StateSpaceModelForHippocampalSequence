{
 "cells": [
  {
   "cell_type": "code",
   "execution_count": 1,
   "metadata": {},
   "outputs": [],
   "source": [
    "import glob\n",
    "import os\n",
    "import pickle\n",
    "import numpy as np"
   ]
  },
  {
   "cell_type": "code",
   "execution_count": 5,
   "metadata": {},
   "outputs": [],
   "source": [
    "datadir = '/home/zilong/Desktop/replay_trajectory_paper/Processed-Data/TrueSleepReplayTrajectories'\n",
    "\n",
    "#get all file with '_sleep_info.pickle'\n",
    "file_list = glob.glob(os.path.join(datadir, '*_sleep_info.pickle'))\n",
    "\n",
    "\n",
    "#initialize the list to store the sleep info\n",
    "SIA_threshold = []\n",
    "SIA_duration = []\n",
    "LIA_duration = []\n",
    "REM_duration = []\n",
    "Sleep_duration = []\n",
    "\n",
    "#for each file in file_list, load the file and get the sleep info with pickle\n",
    "for file in file_list:\n",
    "    with open(file, 'rb') as f:\n",
    "        sleep_info = pickle.load(f)\n",
    "        SIA_threshold.append(sleep_info['SIA_threshold'])\n",
    "        SIA_duration += sleep_info['SIA_durations']\n",
    "        LIA_duration += sleep_info['LIA_durations']\n",
    "        REM_duration += sleep_info['REM_durations']\n",
    "        Sleep_duration += sleep_info['Sleep_durations']\n",
    "        "
   ]
  },
  {
   "cell_type": "code",
   "execution_count": 6,
   "metadata": {},
   "outputs": [
    {
     "name": "stdout",
     "output_type": "stream",
     "text": [
      "The proportion of SIA_threshold != -0.67 is:  0.4772727272727273\n",
      "The number of SIA_threshold is:  88\n",
      "The mean +/- std of SIA_threshold is:  -0.46 +/- 0.38\n",
      "The median SIA_duration, LIA_duration, REM_duration, Sleep_duration is:  1.11 2.89 18.29 144.24\n"
     ]
    }
   ],
   "source": [
    "#get the proportion of SIA_threshold != -0.67\n",
    "SIA_threshold = np.array(SIA_threshold)\n",
    "SIA_threshold_proportion = np.sum(SIA_threshold != -0.67) / len(SIA_threshold)\n",
    "print('The proportion of SIA_threshold != -0.67 is: ', SIA_threshold_proportion)\n",
    "#print number of SIA_threshold\n",
    "print('The number of SIA_threshold is: ', len(SIA_threshold))\n",
    "\n",
    "#for SIA_threshold != -0.67, get the mean +/- std of SIA_threshold\n",
    "subSIA_thres = SIA_threshold[SIA_threshold != -0.67]\n",
    "print('The mean +/- std of SIA_threshold is: ', np.round(np.mean(subSIA_thres), 2), '+/-', np.round(np.std(subSIA_thres), 2))\n",
    "\n",
    "#print median SIA_duration, LIA_duration, REM_duration, Sleep_duration in one line, keep 2 decimal places\n",
    "print('The median SIA_duration, LIA_duration, REM_duration, Sleep_duration is: ', \n",
    "      np.round(np.median(SIA_duration), 2), np.round(np.median(LIA_duration), 2), \n",
    "      np.round(np.median(REM_duration), 2), np.round(np.median(Sleep_duration), 2))"
   ]
  },
  {
   "cell_type": "code",
   "execution_count": null,
   "metadata": {},
   "outputs": [],
   "source": []
  }
 ],
 "metadata": {
  "kernelspec": {
   "display_name": "replay_trajectory_paper",
   "language": "python",
   "name": "python3"
  },
  "language_info": {
   "codemirror_mode": {
    "name": "ipython",
    "version": 3
   },
   "file_extension": ".py",
   "mimetype": "text/x-python",
   "name": "python",
   "nbconvert_exporter": "python",
   "pygments_lexer": "ipython3",
   "version": "3.6.13"
  },
  "orig_nbformat": 4
 },
 "nbformat": 4,
 "nbformat_minor": 2
}
