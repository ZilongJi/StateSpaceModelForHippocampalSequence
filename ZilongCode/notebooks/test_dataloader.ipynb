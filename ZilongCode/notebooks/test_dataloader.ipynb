{
 "cells": [
  {
   "cell_type": "code",
   "execution_count": 1,
   "metadata": {},
   "outputs": [],
   "source": [
    "from loren_frank_data_processing import (get_all_multiunit_indicators,\n",
    "                                         get_all_spike_indicators,\n",
    "                                         get_interpolated_position_dataframe,\n",
    "                                         get_LFPs, get_position_dataframe,\n",
    "                                         get_trial_time, make_epochs_dataframe,\n",
    "                                         make_neuron_dataframe,\n",
    "                                         make_tetrode_dataframe)\n",
    "from src.parameters import _BRAIN_AREAS, _MARKS, ANIMALS, SAMPLING_FREQUENCY\n",
    "import pandas as pd\n",
    "import numpy as np"
   ]
  },
  {
   "cell_type": "code",
   "execution_count": 2,
   "metadata": {},
   "outputs": [],
   "source": [
    "#load the time\n",
    "epoch_key = \"bon\", 4, 2\n",
    "time = get_trial_time(epoch_key, ANIMALS)\n",
    "#sample the time using pandas\n",
    "time = (pd.Series(np.ones_like(time, dtype=np.float), index=time)\n",
    "            .resample('2ms').mean()\n",
    "            .index)\n"
   ]
  },
  {
   "cell_type": "code",
   "execution_count": 3,
   "metadata": {},
   "outputs": [
    {
     "ename": "ValueError",
     "evalue": "no field of name linearcoord",
     "output_type": "error",
     "traceback": [
      "\u001b[0;31m---------------------------------------------------------------------------\u001b[0m",
      "\u001b[0;31mValueError\u001b[0m                                Traceback (most recent call last)",
      "\u001b[0;32m<ipython-input-3-162087f750c7>\u001b[0m in \u001b[0;36m<module>\u001b[0;34m\u001b[0m\n\u001b[1;32m      4\u001b[0m position_info = (\n\u001b[1;32m      5\u001b[0m     get_interpolated_position_dataframe(\n\u001b[0;32m----> 6\u001b[0;31m         epoch_key, ANIMALS, _time_function)\n\u001b[0m\u001b[1;32m      7\u001b[0m     .dropna(subset=['linear_position', 'speed']))\n\u001b[1;32m      8\u001b[0m \u001b[0;34m\u001b[0m\u001b[0m\n",
      "\u001b[0;32m~/anaconda3/envs/replay_trajectory_paper/lib/python3.6/site-packages/loren_frank_data_processing/position.py\u001b[0m in \u001b[0;36mget_interpolated_position_dataframe\u001b[0;34m(epoch_key, animals, time_function, use_hmm, max_distance_from_well, route_euclidean_distance_scaling, min_distance_traveled, sensor_std_dev, diagonal_bias, edge_spacing, edge_order, position_sampling_frequency)\u001b[0m\n\u001b[1;32m    348\u001b[0m         \u001b[0mmin_distance_traveled\u001b[0m\u001b[0;34m,\u001b[0m \u001b[0msensor_std_dev\u001b[0m\u001b[0;34m,\u001b[0m \u001b[0mdiagonal_bias\u001b[0m\u001b[0;34m,\u001b[0m\u001b[0;34m\u001b[0m\u001b[0;34m\u001b[0m\u001b[0m\n\u001b[1;32m    349\u001b[0m         \u001b[0medge_order\u001b[0m\u001b[0;34m=\u001b[0m\u001b[0medge_order\u001b[0m\u001b[0;34m,\u001b[0m \u001b[0medge_spacing\u001b[0m\u001b[0;34m=\u001b[0m\u001b[0medge_spacing\u001b[0m\u001b[0;34m,\u001b[0m\u001b[0;34m\u001b[0m\u001b[0;34m\u001b[0m\u001b[0m\n\u001b[0;32m--> 350\u001b[0;31m         position_sampling_frequency=position_sampling_frequency)\n\u001b[0m\u001b[1;32m    351\u001b[0m \u001b[0;34m\u001b[0m\u001b[0m\n\u001b[1;32m    352\u001b[0m     \u001b[0;32mreturn\u001b[0m \u001b[0mposition_df\u001b[0m\u001b[0;34m\u001b[0m\u001b[0;34m\u001b[0m\u001b[0m\n",
      "\u001b[0;32m~/anaconda3/envs/replay_trajectory_paper/lib/python3.6/site-packages/loren_frank_data_processing/position.py\u001b[0m in \u001b[0;36m_get_linear_position_hmm\u001b[0;34m(epoch_key, animals, position_df, max_distance_from_well, route_euclidean_distance_scaling, min_distance_traveled, sensor_std_dev, diagonal_bias, edge_order, edge_spacing, position_sampling_frequency)\u001b[0m\n\u001b[1;32m    249\u001b[0m                              position_sampling_frequency=33):\n\u001b[1;32m    250\u001b[0m     \u001b[0manimal\u001b[0m\u001b[0;34m,\u001b[0m \u001b[0mday\u001b[0m\u001b[0;34m,\u001b[0m \u001b[0mepoch\u001b[0m \u001b[0;34m=\u001b[0m \u001b[0mepoch_key\u001b[0m\u001b[0;34m\u001b[0m\u001b[0;34m\u001b[0m\u001b[0m\n\u001b[0;32m--> 251\u001b[0;31m     \u001b[0mtrack_graph\u001b[0m\u001b[0;34m,\u001b[0m \u001b[0mcenter_well_id\u001b[0m \u001b[0;34m=\u001b[0m \u001b[0mmake_track_graph\u001b[0m\u001b[0;34m(\u001b[0m\u001b[0mepoch_key\u001b[0m\u001b[0;34m,\u001b[0m \u001b[0manimals\u001b[0m\u001b[0;34m)\u001b[0m\u001b[0;34m\u001b[0m\u001b[0;34m\u001b[0m\u001b[0m\n\u001b[0m\u001b[1;32m    252\u001b[0m     \u001b[0mposition\u001b[0m \u001b[0;34m=\u001b[0m \u001b[0mposition_df\u001b[0m\u001b[0;34m.\u001b[0m\u001b[0mloc\u001b[0m\u001b[0;34m[\u001b[0m\u001b[0;34m:\u001b[0m\u001b[0;34m,\u001b[0m \u001b[0;34m[\u001b[0m\u001b[0;34m'x_position'\u001b[0m\u001b[0;34m,\u001b[0m \u001b[0;34m'y_position'\u001b[0m\u001b[0;34m]\u001b[0m\u001b[0;34m]\u001b[0m\u001b[0;34m.\u001b[0m\u001b[0mvalues\u001b[0m\u001b[0;34m\u001b[0m\u001b[0;34m\u001b[0m\u001b[0m\n\u001b[1;32m    253\u001b[0m     track_segment_id = classify_track_segments(\n",
      "\u001b[0;32m~/anaconda3/envs/replay_trajectory_paper/lib/python3.6/site-packages/loren_frank_data_processing/position.py\u001b[0m in \u001b[0;36mmake_track_graph\u001b[0;34m(epoch_key, animals)\u001b[0m\n\u001b[1;32m    408\u001b[0m     '''\n\u001b[1;32m    409\u001b[0m     track_segments, center_well_position = get_track_segments(\n\u001b[0;32m--> 410\u001b[0;31m         epoch_key, animals)\n\u001b[0m\u001b[1;32m    411\u001b[0m     \u001b[0mnodes\u001b[0m \u001b[0;34m=\u001b[0m \u001b[0mtrack_segments\u001b[0m\u001b[0;34m.\u001b[0m\u001b[0mcopy\u001b[0m\u001b[0;34m(\u001b[0m\u001b[0;34m)\u001b[0m\u001b[0;34m.\u001b[0m\u001b[0mreshape\u001b[0m\u001b[0;34m(\u001b[0m\u001b[0;34m(\u001b[0m\u001b[0;34m-\u001b[0m\u001b[0;36m1\u001b[0m\u001b[0;34m,\u001b[0m \u001b[0;36m2\u001b[0m\u001b[0;34m)\u001b[0m\u001b[0;34m)\u001b[0m\u001b[0;34m\u001b[0m\u001b[0;34m\u001b[0m\u001b[0m\n\u001b[1;32m    412\u001b[0m     \u001b[0m_\u001b[0m\u001b[0;34m,\u001b[0m \u001b[0munique_ind\u001b[0m \u001b[0;34m=\u001b[0m \u001b[0mnp\u001b[0m\u001b[0;34m.\u001b[0m\u001b[0munique\u001b[0m\u001b[0;34m(\u001b[0m\u001b[0mnodes\u001b[0m\u001b[0;34m,\u001b[0m \u001b[0mreturn_index\u001b[0m\u001b[0;34m=\u001b[0m\u001b[0;32mTrue\u001b[0m\u001b[0;34m,\u001b[0m \u001b[0maxis\u001b[0m\u001b[0;34m=\u001b[0m\u001b[0;36m0\u001b[0m\u001b[0;34m)\u001b[0m\u001b[0;34m\u001b[0m\u001b[0;34m\u001b[0m\u001b[0m\n",
      "\u001b[0;32m~/anaconda3/envs/replay_trajectory_paper/lib/python3.6/site-packages/loren_frank_data_processing/position.py\u001b[0m in \u001b[0;36mget_track_segments\u001b[0;34m(epoch_key, animals)\u001b[0m\n\u001b[1;32m    384\u001b[0m     \u001b[0manimal\u001b[0m\u001b[0;34m,\u001b[0m \u001b[0mday\u001b[0m\u001b[0;34m,\u001b[0m \u001b[0mepoch\u001b[0m \u001b[0;34m=\u001b[0m \u001b[0mepoch_key\u001b[0m\u001b[0;34m\u001b[0m\u001b[0;34m\u001b[0m\u001b[0m\n\u001b[1;32m    385\u001b[0m     \u001b[0mtask_file\u001b[0m \u001b[0;34m=\u001b[0m \u001b[0mget_data_structure\u001b[0m\u001b[0;34m(\u001b[0m\u001b[0manimals\u001b[0m\u001b[0;34m[\u001b[0m\u001b[0manimal\u001b[0m\u001b[0;34m]\u001b[0m\u001b[0;34m,\u001b[0m \u001b[0mday\u001b[0m\u001b[0;34m,\u001b[0m \u001b[0;34m'task'\u001b[0m\u001b[0;34m,\u001b[0m \u001b[0;34m'task'\u001b[0m\u001b[0;34m)\u001b[0m\u001b[0;34m\u001b[0m\u001b[0;34m\u001b[0m\u001b[0m\n\u001b[0;32m--> 386\u001b[0;31m     \u001b[0mlinearcoord\u001b[0m \u001b[0;34m=\u001b[0m \u001b[0mtask_file\u001b[0m\u001b[0;34m[\u001b[0m\u001b[0mepoch\u001b[0m \u001b[0;34m-\u001b[0m \u001b[0;36m1\u001b[0m\u001b[0;34m]\u001b[0m\u001b[0;34m[\u001b[0m\u001b[0;34m'linearcoord'\u001b[0m\u001b[0;34m]\u001b[0m\u001b[0;34m[\u001b[0m\u001b[0;36m0\u001b[0m\u001b[0;34m,\u001b[0m \u001b[0;36m0\u001b[0m\u001b[0;34m]\u001b[0m\u001b[0;34m.\u001b[0m\u001b[0msqueeze\u001b[0m\u001b[0;34m(\u001b[0m\u001b[0maxis\u001b[0m\u001b[0;34m=\u001b[0m\u001b[0;36m0\u001b[0m\u001b[0;34m)\u001b[0m\u001b[0;34m\u001b[0m\u001b[0;34m\u001b[0m\u001b[0m\n\u001b[0m\u001b[1;32m    387\u001b[0m     track_segments = [np.stack(((arm[:-1, :, 0], arm[1:, :, 0])), axis=1)\n\u001b[1;32m    388\u001b[0m                       for arm in linearcoord]\n",
      "\u001b[0;31mValueError\u001b[0m: no field of name linearcoord"
     ]
    }
   ],
   "source": [
    "def _time_function(*args, **kwargs):\n",
    "    return time\n",
    "\n",
    "position_info = (\n",
    "    get_interpolated_position_dataframe(\n",
    "        epoch_key, ANIMALS, _time_function)\n",
    "    .dropna(subset=['linear_position', 'speed']))\n",
    "\n",
    "time1 = position_info.index"
   ]
  },
  {
   "cell_type": "code",
   "execution_count": null,
   "metadata": {},
   "outputs": [],
   "source": []
  }
 ],
 "metadata": {
  "kernelspec": {
   "display_name": "replay_trajectory_paper",
   "language": "python",
   "name": "python3"
  },
  "language_info": {
   "codemirror_mode": {
    "name": "ipython",
    "version": 3
   },
   "file_extension": ".py",
   "mimetype": "text/x-python",
   "name": "python",
   "nbconvert_exporter": "python",
   "pygments_lexer": "ipython3",
   "version": "3.6.13"
  },
  "orig_nbformat": 4
 },
 "nbformat": 4,
 "nbformat_minor": 2
}
