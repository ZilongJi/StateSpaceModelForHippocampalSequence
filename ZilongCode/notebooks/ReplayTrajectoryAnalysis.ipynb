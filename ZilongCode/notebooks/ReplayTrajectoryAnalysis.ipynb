{
 "cells": [
  {
   "cell_type": "code",
   "execution_count": 54,
   "metadata": {},
   "outputs": [],
   "source": [
    "import os\n",
    "import numpy as np\n",
    "import pickle\n",
    "from loren_frank_data_processing import (make_epochs_dataframe,\n",
    "                                         make_neuron_dataframe)\n",
    "from src.parameters import (ANIMALS, MAX_N_EXPOSURES, MIN_N_NEURONS)\n",
    "\n",
    "from tqdm.auto import tqdm\n",
    "\n",
    "import levy\n",
    "from scipy import stats\n",
    "\n",
    "import matplotlib.pyplot as plt"
   ]
  },
  {
   "cell_type": "code",
   "execution_count": 127,
   "metadata": {},
   "outputs": [],
   "source": [
    "def get_levy_exponent(Replay_traj):\n",
    "    '''\n",
    "    Get the levy exponent for replay trajectory\n",
    "    Input (dictionary): Replay_traj\n",
    "    '''\n",
    "    #initialze an empty numpy array\n",
    "    all_steps = []\n",
    "\n",
    "    keys = Replay_traj.keys()\n",
    "    for key in keys:\n",
    "        #get the replay trajectory for each ripple events\n",
    "        ripple_traj = Replay_traj[key]\n",
    "        traj_step = np.abs(np.diff(ripple_traj[::1]))\n",
    "        #concatenate the steps for all ripple events\n",
    "        all_steps = np.concatenate((all_steps, traj_step))\n",
    "    \n",
    "    return all_steps\n",
    "        \n",
    "        \n",
    "    "
   ]
  },
  {
   "cell_type": "code",
   "execution_count": 133,
   "metadata": {},
   "outputs": [
    {
     "name": "stderr",
     "output_type": "stream",
     "text": [
      "epochs:   0%|          | 0/24 [00:00<?, ?it/s]"
     ]
    },
    {
     "name": "stdout",
     "output_type": "stream",
     "text": [
      "Animal: bon, Day: 3, Epoch: 2\n",
      "Load replay trajectories for the current epoch...\n",
      "(par=0, alpha=0.50, beta=0.27, mu=0.21, sigma=1.00, 12773.145627096159)\n"
     ]
    },
    {
     "name": "stderr",
     "output_type": "stream",
     "text": [
      "epochs:   4%|▍         | 1/24 [00:01<00:40,  1.75s/it]"
     ]
    },
    {
     "name": "stdout",
     "output_type": "stream",
     "text": [
      "Ratio of steps that are out of three standard deviations: 0.014697876973326075\n",
      "Mean: 1.9147928051431387, Standard deviation: 11.717982082754032\n",
      "Animal: bon, Day: 3, Epoch: 4\n",
      "Load replay trajectories for the current epoch...\n",
      "(par=0, alpha=0.50, beta=0.29, mu=0.22, sigma=1.00, 17864.96027341889)\n"
     ]
    },
    {
     "name": "stderr",
     "output_type": "stream",
     "text": [
      "epochs:   8%|▊         | 2/24 [00:03<00:38,  1.75s/it]"
     ]
    },
    {
     "name": "stdout",
     "output_type": "stream",
     "text": [
      "Ratio of steps that are out of three standard deviations: 0.016070222822417286\n",
      "Mean: 1.8415822487826117, Standard deviation: 10.401527061024284\n",
      "Animal: bon, Day: 3, Epoch: 6\n",
      "Load replay trajectories for the current epoch...\n",
      "(par=0, alpha=0.50, beta=0.17, mu=0.13, sigma=1.00, 16886.679499964728)\n"
     ]
    },
    {
     "name": "stderr",
     "output_type": "stream",
     "text": [
      "epochs:  12%|█▎        | 3/24 [00:04<00:32,  1.55s/it]"
     ]
    },
    {
     "name": "stdout",
     "output_type": "stream",
     "text": [
      "Ratio of steps that are out of three standard deviations: 0.05273933338792892\n",
      "Mean: 7.214756604677854, Standard deviation: 25.79188612032796\n",
      "Animal: bon, Day: 4, Epoch: 2\n",
      "Load replay trajectories for the current epoch...\n",
      "(par=0, alpha=0.50, beta=0.22, mu=0.18, sigma=1.00, 12569.006452777574)\n"
     ]
    },
    {
     "name": "stderr",
     "output_type": "stream",
     "text": [
      "epochs:  17%|█▋        | 4/24 [00:06<00:32,  1.62s/it]"
     ]
    },
    {
     "name": "stdout",
     "output_type": "stream",
     "text": [
      "Ratio of steps that are out of three standard deviations: 0.01463860933211345\n",
      "Mean: 1.796670956596825, Standard deviation: 11.77940724989509\n",
      "Animal: bon, Day: 4, Epoch: 4\n",
      "Load replay trajectories for the current epoch...\n",
      "(par=0, alpha=0.50, beta=0.17, mu=0.13, sigma=1.00, 13549.14352543644)\n"
     ]
    },
    {
     "name": "stderr",
     "output_type": "stream",
     "text": [
      "epochs:  21%|██        | 5/24 [00:08<00:30,  1.62s/it]"
     ]
    },
    {
     "name": "stdout",
     "output_type": "stream",
     "text": [
      "Ratio of steps that are out of three standard deviations: 0.01867881548974943\n",
      "Mean: 1.9342113556200093, Standard deviation: 11.7459189044401\n",
      "Animal: bon, Day: 4, Epoch: 6\n",
      "Load replay trajectories for the current epoch...\n",
      "(par=0, alpha=0.50, beta=0.21, mu=0.16, sigma=1.00, 15898.564473327484)\n"
     ]
    },
    {
     "name": "stderr",
     "output_type": "stream",
     "text": [
      "epochs:  25%|██▌       | 6/24 [00:09<00:28,  1.58s/it]"
     ]
    },
    {
     "name": "stdout",
     "output_type": "stream",
     "text": [
      "Ratio of steps that are out of three standard deviations: 0.03918507532589181\n",
      "Mean: 5.037493271781955, Standard deviation: 21.24049001555414\n",
      "Animal: bon, Day: 5, Epoch: 2\n",
      "Load replay trajectories for the current epoch...\n",
      "(par=0, alpha=0.50, beta=0.21, mu=0.16, sigma=1.00, 9769.962994967742)\n"
     ]
    },
    {
     "name": "stderr",
     "output_type": "stream",
     "text": [
      "epochs:  29%|██▉       | 7/24 [00:11<00:26,  1.58s/it]"
     ]
    },
    {
     "name": "stdout",
     "output_type": "stream",
     "text": [
      "Ratio of steps that are out of three standard deviations: 0.01313522825150732\n",
      "Mean: 1.617350301088511, Standard deviation: 10.830069955285369\n",
      "Animal: bon, Day: 5, Epoch: 4\n",
      "Load replay trajectories for the current epoch...\n",
      "(par=0, alpha=0.50, beta=0.20, mu=0.16, sigma=1.00, 11525.1799068916)\n"
     ]
    },
    {
     "name": "stderr",
     "output_type": "stream",
     "text": [
      "epochs:  33%|███▎      | 8/24 [00:12<00:25,  1.57s/it]"
     ]
    },
    {
     "name": "stdout",
     "output_type": "stream",
     "text": [
      "Ratio of steps that are out of three standard deviations: 0.010664123461071614\n",
      "Mean: 1.223012005424091, Standard deviation: 8.22230484539946\n",
      "Animal: bon, Day: 5, Epoch: 6\n",
      "Load replay trajectories for the current epoch...\n",
      "(par=0, alpha=0.50, beta=0.17, mu=0.13, sigma=1.00, 13432.667778906532)\n"
     ]
    },
    {
     "name": "stderr",
     "output_type": "stream",
     "text": [
      "epochs:  38%|███▊      | 9/24 [00:13<00:21,  1.41s/it]"
     ]
    },
    {
     "name": "stdout",
     "output_type": "stream",
     "text": [
      "Ratio of steps that are out of three standard deviations: 0.051671087533156496\n",
      "Mean: 6.496503132265119, Standard deviation: 22.50726839354846\n",
      "Animal: bon, Day: 6, Epoch: 2\n",
      "Load replay trajectories for the current epoch...\n",
      "(par=0, alpha=0.50, beta=0.18, mu=0.14, sigma=1.00, 8817.41088655436)\n"
     ]
    },
    {
     "name": "stderr",
     "output_type": "stream",
     "text": [
      "epochs:  42%|████▏     | 10/24 [00:15<00:19,  1.41s/it]"
     ]
    },
    {
     "name": "stdout",
     "output_type": "stream",
     "text": [
      "Ratio of steps that are out of three standard deviations: 0.013596059113300493\n",
      "Mean: 1.3951121183743211, Standard deviation: 10.2657812055464\n",
      "Animal: bon, Day: 6, Epoch: 4\n",
      "Load replay trajectories for the current epoch...\n",
      "(par=0, alpha=0.50, beta=0.14, mu=0.11, sigma=1.00, 12373.276106920555)\n"
     ]
    },
    {
     "name": "stderr",
     "output_type": "stream",
     "text": [
      "epochs:  46%|████▌     | 11/24 [00:16<00:18,  1.40s/it]"
     ]
    },
    {
     "name": "stdout",
     "output_type": "stream",
     "text": [
      "Ratio of steps that are out of three standard deviations: 0.022052990639378073\n",
      "Mean: 2.3351695855789916, Standard deviation: 13.811652971132158\n",
      "Animal: bon, Day: 6, Epoch: 6\n",
      "Load replay trajectories for the current epoch...\n",
      "(par=0, alpha=0.50, beta=0.17, mu=0.13, sigma=1.00, 14885.080229592806)\n"
     ]
    },
    {
     "name": "stderr",
     "output_type": "stream",
     "text": [
      "epochs:  50%|█████     | 12/24 [00:18<00:17,  1.43s/it]"
     ]
    },
    {
     "name": "stdout",
     "output_type": "stream",
     "text": [
      "Ratio of steps that are out of three standard deviations: 0.04670398529534631\n",
      "Mean: 5.26615212011426, Standard deviation: 20.901501198238478\n",
      "Animal: bon, Day: 7, Epoch: 2\n",
      "Load replay trajectories for the current epoch...\n",
      "(par=0, alpha=0.50, beta=0.10, mu=0.08, sigma=1.00, 8887.933181112247)\n"
     ]
    },
    {
     "name": "stderr",
     "output_type": "stream",
     "text": [
      "epochs:  54%|█████▍    | 13/24 [00:19<00:16,  1.46s/it]"
     ]
    },
    {
     "name": "stdout",
     "output_type": "stream",
     "text": [
      "Ratio of steps that are out of three standard deviations: 0.014003071641521366\n",
      "Mean: 1.194791850363735, Standard deviation: 9.034022755217041\n",
      "Animal: bon, Day: 7, Epoch: 4\n",
      "Load replay trajectories for the current epoch...\n",
      "(par=0, alpha=0.50, beta=0.12, mu=0.10, sigma=1.00, 10450.204190550887)\n"
     ]
    },
    {
     "name": "stderr",
     "output_type": "stream",
     "text": [
      "epochs:  58%|█████▊    | 14/24 [00:20<00:14,  1.41s/it]"
     ]
    },
    {
     "name": "stdout",
     "output_type": "stream",
     "text": [
      "Ratio of steps that are out of three standard deviations: 0.017733990147783252\n",
      "Mean: 1.8041952990321481, Standard deviation: 12.479588901768398\n",
      "Animal: bon, Day: 7, Epoch: 6\n",
      "Load replay trajectories for the current epoch...\n",
      "(par=0, alpha=0.50, beta=0.23, mu=0.18, sigma=1.00, 15544.693896192319)\n"
     ]
    },
    {
     "name": "stderr",
     "output_type": "stream",
     "text": [
      "epochs:  62%|██████▎   | 15/24 [00:22<00:11,  1.33s/it]"
     ]
    },
    {
     "name": "stdout",
     "output_type": "stream",
     "text": [
      "Ratio of steps that are out of three standard deviations: 0.05108885417623817\n",
      "Mean: 6.333680110025222, Standard deviation: 22.361936467287933\n",
      "Animal: bon, Day: 8, Epoch: 2\n",
      "Load replay trajectories for the current epoch...\n",
      "(par=0, alpha=0.50, beta=0.14, mu=0.11, sigma=1.00, 10039.957446683831)\n"
     ]
    },
    {
     "name": "stderr",
     "output_type": "stream",
     "text": [
      "epochs:  67%|██████▋   | 16/24 [00:23<00:10,  1.32s/it]"
     ]
    },
    {
     "name": "stdout",
     "output_type": "stream",
     "text": [
      "Ratio of steps that are out of three standard deviations: 0.018502704241389126\n",
      "Mean: 1.960321225148169, Standard deviation: 12.555257607507919\n",
      "Animal: bon, Day: 8, Epoch: 4\n",
      "Load replay trajectories for the current epoch...\n",
      "(par=0, alpha=0.50, beta=0.14, mu=0.11, sigma=1.00, 11921.1694683429)\n"
     ]
    },
    {
     "name": "stderr",
     "output_type": "stream",
     "text": [
      "epochs:  71%|███████   | 17/24 [00:25<00:09,  1.42s/it]"
     ]
    },
    {
     "name": "stdout",
     "output_type": "stream",
     "text": [
      "Ratio of steps that are out of three standard deviations: 0.017462881760135395\n",
      "Mean: 1.7794860847056833, Standard deviation: 11.667917296745163\n",
      "Animal: bon, Day: 8, Epoch: 6\n",
      "Load replay trajectories for the current epoch...\n",
      "(par=0, alpha=0.50, beta=0.22, mu=0.17, sigma=1.00, 10358.426406569528)\n"
     ]
    },
    {
     "name": "stderr",
     "output_type": "stream",
     "text": [
      "epochs:  75%|███████▌  | 18/24 [00:26<00:07,  1.31s/it]"
     ]
    },
    {
     "name": "stdout",
     "output_type": "stream",
     "text": [
      "Ratio of steps that are out of three standard deviations: 0.030244468064547298\n",
      "Mean: 3.246549616043853, Standard deviation: 16.764287648543757\n",
      "Animal: bon, Day: 9, Epoch: 2\n",
      "Load replay trajectories for the current epoch...\n",
      "(par=0, alpha=0.50, beta=0.10, mu=0.08, sigma=1.00, 10264.664760918175)\n"
     ]
    },
    {
     "name": "stderr",
     "output_type": "stream",
     "text": [
      "epochs:  79%|███████▉  | 19/24 [00:27<00:06,  1.31s/it]"
     ]
    },
    {
     "name": "stdout",
     "output_type": "stream",
     "text": [
      "Ratio of steps that are out of three standard deviations: 0.022006311243979407\n",
      "Mean: 2.120098041534916, Standard deviation: 13.332639077731306\n",
      "Animal: bon, Day: 9, Epoch: 4\n",
      "Load replay trajectories for the current epoch...\n",
      "(par=0, alpha=0.50, beta=0.16, mu=0.13, sigma=1.00, 13381.251975967303)\n"
     ]
    },
    {
     "name": "stderr",
     "output_type": "stream",
     "text": [
      "epochs:  83%|████████▎ | 20/24 [00:29<00:06,  1.53s/it]"
     ]
    },
    {
     "name": "stdout",
     "output_type": "stream",
     "text": [
      "Ratio of steps that are out of three standard deviations: 0.01785200115174201\n",
      "Mean: 1.6709278764890045, Standard deviation: 10.496495844983887\n",
      "Animal: bon, Day: 9, Epoch: 6\n",
      "Load replay trajectories for the current epoch...\n",
      "(par=0, alpha=0.50, beta=0.13, mu=0.10, sigma=1.00, 12712.506094077926)\n"
     ]
    },
    {
     "name": "stderr",
     "output_type": "stream",
     "text": [
      "epochs:  88%|████████▊ | 21/24 [00:30<00:04,  1.48s/it]"
     ]
    },
    {
     "name": "stdout",
     "output_type": "stream",
     "text": [
      "Ratio of steps that are out of three standard deviations: 0.03491046492525053\n",
      "Mean: 3.1449884818829936, Standard deviation: 15.15520176462068\n",
      "Animal: bon, Day: 10, Epoch: 2\n",
      "Load replay trajectories for the current epoch...\n",
      "(par=0, alpha=0.50, beta=0.22, mu=0.17, sigma=1.00, 11684.054991710827)\n"
     ]
    },
    {
     "name": "stderr",
     "output_type": "stream",
     "text": [
      "epochs:  92%|█████████▏| 22/24 [00:32<00:02,  1.48s/it]"
     ]
    },
    {
     "name": "stdout",
     "output_type": "stream",
     "text": [
      "Ratio of steps that are out of three standard deviations: 0.01823065028078457\n",
      "Mean: 1.9553780867686565, Standard deviation: 12.391165598589561\n",
      "Animal: bon, Day: 10, Epoch: 4\n",
      "Load replay trajectories for the current epoch...\n",
      "(par=0, alpha=0.50, beta=0.13, mu=0.10, sigma=1.00, 14835.898539328076)\n"
     ]
    },
    {
     "name": "stderr",
     "output_type": "stream",
     "text": [
      "epochs:  96%|█████████▌| 23/24 [00:34<00:01,  1.56s/it]"
     ]
    },
    {
     "name": "stdout",
     "output_type": "stream",
     "text": [
      "Ratio of steps that are out of three standard deviations: 0.018861523848293642\n",
      "Mean: 1.7647332004930016, Standard deviation: 10.823217544380613\n",
      "Animal: bon, Day: 10, Epoch: 6\n",
      "Load replay trajectories for the current epoch...\n",
      "(par=0, alpha=0.50, beta=0.20, mu=0.16, sigma=1.00, 12680.041811684072)\n"
     ]
    },
    {
     "name": "stderr",
     "output_type": "stream",
     "text": [
      "epochs: 100%|██████████| 24/24 [00:35<00:00,  1.46s/it]"
     ]
    },
    {
     "name": "stdout",
     "output_type": "stream",
     "text": [
      "Ratio of steps that are out of three standard deviations: 0.0341726618705036\n",
      "Mean: 3.3242553944716615, Standard deviation: 16.10033644561529\n"
     ]
    },
    {
     "name": "stderr",
     "output_type": "stream",
     "text": [
      "\n"
     ]
    }
   ],
   "source": [
    "\n",
    "epoch_info = make_epochs_dataframe(ANIMALS)\n",
    "neuron_info = make_neuron_dataframe(ANIMALS)\n",
    "n_neurons = (neuron_info\n",
    "                .groupby(['animal', 'day', 'epoch'])\n",
    "                .neuron_id\n",
    "                .agg(len)\n",
    "                .rename('n_neurons')\n",
    "                .to_frame())\n",
    "\n",
    "epoch_info = epoch_info.join(n_neurons)\n",
    "is_w_track = (epoch_info.environment\n",
    "                .isin(['TrackA', 'TrackB', 'WTrackA', 'WTrackB']))\n",
    "#is_animal = epoch_info.index.isin(['bon', 'fra', 'gov', 'dud', 'con'], level='animal')\n",
    "is_animal = epoch_info.index.isin(['bon'], level='animal')\n",
    "valid_epochs = (is_w_track &\n",
    "                (epoch_info.n_neurons > MIN_N_NEURONS) &\n",
    "                (epoch_info.exposure <= MAX_N_EXPOSURES) &\n",
    "                is_animal\n",
    "                )\n",
    "\n",
    "PROCESSED_DATA_DIR = '/home/zilong/Desktop/replay_trajectory_paper/Processed-Data'\n",
    "\n",
    "for epoch_key in tqdm(epoch_info[valid_epochs].index, desc='epochs'):\n",
    "    animal, day, epoch = epoch_key\n",
    "\n",
    "    print(f'Animal: {animal}, Day: {day}, Epoch: {epoch}')\n",
    "        \n",
    "    print('Load replay trajectories for the current epoch...')\n",
    "    #load the dictionary from the 'ReplayTrajectories' folder under PROCESSED_DATA_DIR using pickle\n",
    "    with open(os.path.join(PROCESSED_DATA_DIR, 'ReplayTrajectories', f'{animal}_{day:02d}_{epoch:02d}_traj.pkl'), 'rb') as f:\n",
    "        Replay_traj = pickle.load(f)\n",
    "        \n",
    "    #figure\n",
    "    plt.figure()\n",
    "    steps = get_levy_exponent(Replay_traj)\n",
    "    #performa a histogram of the steps\n",
    "    plt.hist(steps, bins=100, density=True)\n",
    "    \n",
    "    #perform the fit and add the fitted curve to the histogram\n",
    "    params = levy.fit_levy(steps, sigma=1.0)\n",
    "    print(params)\n",
    "    params = params[0].get()\n",
    "    dist = stats.levy_stable\n",
    "    x = np.linspace(np.min(steps), np.max(steps), 100)\n",
    "    \n",
    "    plt.plot(x, dist.pdf(x, params[0], params[1], params[2], params[3]),lw=1, alpha=1)\n",
    "        \n",
    "    plt.xlabel('Step size')\n",
    "    plt.ylabel('Count')\n",
    "    #save the figure\n",
    "    folder = '/home/zilong/Desktop/replay_trajectory_paper/figures/Zilong/ReplayHistgram'\n",
    "    plt.savefig(os.path.join(folder, f'{animal}_{day:02d}_{epoch:02d}_hist.png'))\n",
    "    #close\n",
    "    plt.close()\n",
    "    \n",
    "    #Count the ratio of steps that are out of three standard deviations\n",
    "    #get the mean and standard deviation of the steps\n",
    "    mean = np.mean(steps)\n",
    "    std = np.std(steps)\n",
    "    #get the number of steps that are out of three standard deviations\n",
    "    n_outlier = np.sum(np.abs(steps-mean)>2*std)\n",
    "    #get the ratio and print mean and standard deviation as well\n",
    "    ratio = n_outlier/len(steps)\n",
    "    print(f'Ratio of steps that are out of three standard deviations: {ratio}')\n",
    "    print(f'Mean: {mean}, Standard deviation: {std}')\n",
    "\n",
    "         "
   ]
  },
  {
   "cell_type": "code",
   "execution_count": 125,
   "metadata": {},
   "outputs": [
    {
     "name": "stdout",
     "output_type": "stream",
     "text": [
      "(par=0, alpha=0.50, beta=1.00, mu=0.00, sigma=1.00, 772.8341911571338)\n"
     ]
    },
    {
     "data": {
      "text/plain": [
       "Text(0, 0.5, 'probability density')"
      ]
     },
     "execution_count": 125,
     "metadata": {},
     "output_type": "execute_result"
    },
    {
     "data": {
      "image/png": "[encoded data removed]",
      "text/plain": [
       "<Figure size 432x288 with 1 Axes>"
      ]
     },
     "metadata": {
      "needs_background": "light"
     },
     "output_type": "display_data"
    }
   ],
   "source": [
    "\n",
    "import scipy.stats as st\n",
    "import levy\n",
    "\n",
    "points = 200\n",
    "jennys_constant = 8675309\n",
    "alpha, beta = 0.5, 1.0\n",
    "\n",
    "draw = st.levy_stable.rvs(alpha, beta, size=points, random_state=jennys_constant)\n",
    "\n",
    "#histogram on draw\n",
    "plt.figure()\n",
    "plt.hist(draw, bins=30, density=True)\n",
    "\n",
    "\n",
    "params = levy.fit_levy(draw, mu=0, sigma=1)\n",
    "print(params)\n",
    "\n",
    "params = params[0].get()\n",
    "dist = stats.levy_stable\n",
    "x = np.linspace(np.min(draw), np.max(draw), 100)\n",
    "\n",
    "plt.plot(x, dist.pdf(x, params[0], params[1]),lw=1, alpha=1)\n",
    "\n",
    "plt.xlabel('Step size')\n",
    "plt.ylabel('probability density')"
   ]
  },
  {
   "cell_type": "code",
   "execution_count": 101,
   "metadata": {},
   "outputs": [
    {
     "data": {
      "text/plain": [
       "748"
      ]
     },
     "execution_count": 101,
     "metadata": {},
     "output_type": "execute_result"
    }
   ],
   "source": [
    "sum(draw>10)"
   ]
  },
  {
   "cell_type": "code",
   "execution_count": 68,
   "metadata": {},
   "outputs": [
    {
     "data": {
      "text/plain": [
       "(par=0, alpha=0.50, beta=0.05, mu=0.00, sigma=0.00, -125610.91032786045)"
      ]
     },
     "execution_count": 68,
     "metadata": {},
     "output_type": "execute_result"
    },
    {
     "data": {
      "image/png": "[encoded data removed]",
      "text/plain": [
       "<Figure size 432x288 with 1 Axes>"
      ]
     },
     "metadata": {
      "needs_background": "light"
     },
     "output_type": "display_data"
    }
   ],
   "source": [
    "\n",
    "plt.figure()\n",
    "steps = get_levy_exponent(Replay_traj)\n",
    "\n",
    "steps[steps>100]=100\n",
    "#performa a histogram of the steps\n",
    "plt.hist(steps, bins=50, density=True)\n",
    "plt.xlabel('Step size')\n",
    "plt.ylabel('Probability density')\n",
    "\n",
    "params = levy.fit_levy(steps)\n",
    "params"
   ]
  },
  {
   "cell_type": "code",
   "execution_count": 52,
   "metadata": {},
   "outputs": [
    {
     "data": {
      "text/plain": [
       "par=0, alpha=0.50, beta=0.12, mu=0.00, sigma=0.00"
      ]
     },
     "execution_count": 52,
     "metadata": {},
     "output_type": "execute_result"
    }
   ],
   "source": [
    "levy.random(0.5, 0.905, 0.707, 1.414, shape = )"
   ]
  },
  {
   "cell_type": "code",
   "execution_count": 56,
   "metadata": {},
   "outputs": [
    {
     "name": "stdout",
     "output_type": "stream",
     "text": [
      "Help on function fit_levy in module levy:\n",
      "\n",
      "fit_levy(x, par='0', **kwargs)\n",
      "    Estimate parameters of Levy stable distribution given data x, using\n",
      "    Maximum Likelihood estimation.\n",
      "    \n",
      "    By default, searches all possible Levy stable distributions. However\n",
      "    you may restrict the search by specifying the values of one or more\n",
      "    parameters. Notice that the parameters to be fixed can be chosen in\n",
      "    all the available parametrizations {0, 1, A, B, M}.\n",
      "    \n",
      "    Examples:\n",
      "        >>> np.random.seed(0)\n",
      "        >>> x = random(1.5, 0, 0, 1, shape=(200,))\n",
      "        >>> fit_levy(x) # -- Fit a stable distribution to x\n",
      "        (par=0, alpha=1.52, beta=-0.08, mu=0.05, sigma=0.99, 402.37150603509247)\n",
      "    \n",
      "        >>> fit_levy(x, beta=0.0) # -- Fit a symmetric stable distribution to x\n",
      "        (par=0, alpha=1.53, beta=0.00, mu=0.03, sigma=0.99, 402.43833088693725)\n",
      "    \n",
      "        >>> fit_levy(x, beta=0.0, mu=0.0) # -- Fit a symmetric distribution centered on zero to x\n",
      "        (par=0, alpha=1.53, beta=0.00, mu=0.00, sigma=0.99, 402.4736618823546)\n",
      "    \n",
      "        >>> fit_levy(x, alpha=1.0, beta=0.0) # -- Fit a Cauchy distribution to x\n",
      "        (par=0, alpha=1.00, beta=0.00, mu=0.10, sigma=0.90, 416.54249079255976)\n",
      "    \n",
      "    :param x: values to be fitted\n",
      "    :type x: :class:`~numpy.ndarray`\n",
      "    :param par: parametrization\n",
      "    :type par: str\n",
      "    :return: a tuple with a `Parameters` object and the negative log likelihood of the data.\n",
      "    :rtype: tuple\n",
      "\n"
     ]
    }
   ],
   "source": [
    "help(levy.fit_levy)"
   ]
  },
  {
   "cell_type": "code",
   "execution_count": 58,
   "metadata": {},
   "outputs": [
    {
     "name": "stdout",
     "output_type": "stream",
     "text": [
      "Help on levy_stable_gen in module scipy.stats._continuous_distns object:\n",
      "\n",
      "class levy_stable_gen(scipy.stats._distn_infrastructure.rv_continuous)\n",
      " |  A Levy-stable continuous random variable.\n",
      " |  \n",
      " |  %(before_notes)s\n",
      " |  \n",
      " |  See Also\n",
      " |  --------\n",
      " |  levy, levy_l\n",
      " |  \n",
      " |  Notes\n",
      " |  -----\n",
      " |  The distribution for `levy_stable` has characteristic function:\n",
      " |  \n",
      " |  .. math::\n",
      " |  \n",
      " |      \\varphi(t, \\alpha, \\beta, c, \\mu) =\n",
      " |      e^{it\\mu -|ct|^{\\alpha}(1-i\\beta \\operatorname{sign}(t)\\Phi(\\alpha, t))}\n",
      " |  \n",
      " |  where:\n",
      " |  \n",
      " |  .. math::\n",
      " |  \n",
      " |      \\Phi = \\begin{cases}\n",
      " |              \\tan \\left({\\frac {\\pi \\alpha }{2}}\\right)&\\alpha \\neq 1\\\\\n",
      " |              -{\\frac {2}{\\pi }}\\log |t|&\\alpha =1\n",
      " |              \\end{cases}\n",
      " |  \n",
      " |  The probability density function for `levy_stable` is:\n",
      " |  \n",
      " |  .. math::\n",
      " |  \n",
      " |      f(x) = \\frac{1}{2\\pi}\\int_{-\\infty}^\\infty \\varphi(t)e^{-ixt}\\,dt\n",
      " |  \n",
      " |  where :math:`-\\infty < t < \\infty`. This integral does not have a known closed form.\n",
      " |  \n",
      " |  For evaluation of pdf we use either Zolotarev :math:`S_0` parameterization with integration,\n",
      " |  direct integration of standard parameterization of characteristic function or FFT of\n",
      " |  characteristic function. If set to other than None and if number of points is greater than\n",
      " |  ``levy_stable.pdf_fft_min_points_threshold`` (defaults to None) we use FFT otherwise we use one\n",
      " |  of the other methods.\n",
      " |  \n",
      " |  The default method is 'best' which uses Zolotarev's method if alpha = 1 and integration of\n",
      " |  characteristic function otherwise. The default method can be changed by setting\n",
      " |  ``levy_stable.pdf_default_method`` to either 'zolotarev', 'quadrature' or 'best'.\n",
      " |  \n",
      " |  To increase accuracy of FFT calculation one can specify ``levy_stable.pdf_fft_grid_spacing``\n",
      " |  (defaults to 0.001) and ``pdf_fft_n_points_two_power`` (defaults to a value that covers the\n",
      " |  input range * 4). Setting ``pdf_fft_n_points_two_power`` to 16 should be sufficiently accurate\n",
      " |  in most cases at the expense of CPU time.\n",
      " |  \n",
      " |  For evaluation of cdf we use Zolatarev :math:`S_0` parameterization with integration or integral of\n",
      " |  the pdf FFT interpolated spline. The settings affecting FFT calculation are the same as\n",
      " |  for pdf calculation. Setting the threshold to ``None`` (default) will disable FFT. For cdf\n",
      " |  calculations the Zolatarev method is superior in accuracy, so FFT is disabled by default.\n",
      " |  \n",
      " |  Fitting estimate uses quantile estimation method in [MC]. MLE estimation of parameters in\n",
      " |  fit method uses this quantile estimate initially. Note that MLE doesn't always converge if\n",
      " |  using FFT for pdf calculations; so it's best that ``pdf_fft_min_points_threshold`` is left unset.\n",
      " |  \n",
      " |  .. warning::\n",
      " |  \n",
      " |      For pdf calculations implementation of Zolatarev is unstable for values where alpha = 1 and\n",
      " |      beta != 0. In this case the quadrature method is recommended. FFT calculation is also\n",
      " |      considered experimental.\n",
      " |  \n",
      " |      For cdf calculations FFT calculation is considered experimental. Use Zolatarev's method\n",
      " |      instead (default).\n",
      " |  \n",
      " |  %(after_notes)s\n",
      " |  \n",
      " |  References\n",
      " |  ----------\n",
      " |  .. [MC] McCulloch, J., 1986. Simple consistent estimators of stable distribution parameters.\n",
      " |     Communications in Statistics - Simulation and Computation 15, 11091136.\n",
      " |  .. [MS] Mittnik, S.T. Rachev, T. Doganoglu, D. Chenyao, 1999. Maximum likelihood estimation\n",
      " |     of stable Paretian models, Mathematical and Computer Modelling, Volume 29, Issue 10,\n",
      " |     1999, Pages 275-293.\n",
      " |  .. [BS] Borak, S., Hardle, W., Rafal, W. 2005. Stable distributions, Economic Risk.\n",
      " |  \n",
      " |  %(example)s\n",
      " |  \n",
      " |  Method resolution order:\n",
      " |      levy_stable_gen\n",
      " |      scipy.stats._distn_infrastructure.rv_continuous\n",
      " |      scipy.stats._distn_infrastructure.rv_generic\n",
      " |      builtins.object\n",
      " |  \n",
      " |  Methods inherited from scipy.stats._distn_infrastructure.rv_continuous:\n",
      " |  \n",
      " |  __init__(self, momtype=1, a=None, b=None, xtol=1e-14, badvalue=None, name=None, longname=None, shapes=None, extradoc=None, seed=None)\n",
      " |      Initialize self.  See help(type(self)) for accurate signature.\n",
      " |  \n",
      " |  cdf(self, x, *args, **kwds)\n",
      " |      Cumulative distribution function of the given RV.\n",
      " |      \n",
      " |      Parameters\n",
      " |      ----------\n",
      " |      x : array_like\n",
      " |          quantiles\n",
      " |      arg1, arg2, arg3,... : array_like\n",
      " |          The shape parameter(s) for the distribution (see docstring of the\n",
      " |          instance object for more information)\n",
      " |      loc : array_like, optional\n",
      " |          location parameter (default=0)\n",
      " |      scale : array_like, optional\n",
      " |          scale parameter (default=1)\n",
      " |      \n",
      " |      Returns\n",
      " |      -------\n",
      " |      cdf : ndarray\n",
      " |          Cumulative distribution function evaluated at `x`\n",
      " |  \n",
      " |  expect(self, func=None, args=(), loc=0, scale=1, lb=None, ub=None, conditional=False, **kwds)\n",
      " |      Calculate expected value of a function with respect to the\n",
      " |      distribution by numerical integration.\n",
      " |      \n",
      " |      The expected value of a function ``f(x)`` with respect to a\n",
      " |      distribution ``dist`` is defined as::\n",
      " |      \n",
      " |                  ub\n",
      " |          E[f(x)] = Integral(f(x) * dist.pdf(x)),\n",
      " |                  lb\n",
      " |      \n",
      " |      where ``ub`` and ``lb`` are arguments and ``x`` has the ``dist.pdf(x)``\n",
      " |      distribution. If the bounds ``lb`` and ``ub`` correspond to the\n",
      " |      support of the distribution, e.g. ``[-inf, inf]`` in the default\n",
      " |      case, then the integral is the unrestricted expectation of ``f(x)``.\n",
      " |      Also, the function ``f(x)`` may be defined such that ``f(x)`` is ``0``\n",
      " |      outside a finite interval in which case the expectation is\n",
      " |      calculated within the finite range ``[lb, ub]``.\n",
      " |      \n",
      " |      Parameters\n",
      " |      ----------\n",
      " |      func : callable, optional\n",
      " |          Function for which integral is calculated. Takes only one argument.\n",
      " |          The default is the identity mapping f(x) = x.\n",
      " |      args : tuple, optional\n",
      " |          Shape parameters of the distribution.\n",
      " |      loc : float, optional\n",
      " |          Location parameter (default=0).\n",
      " |      scale : float, optional\n",
      " |          Scale parameter (default=1).\n",
      " |      lb, ub : scalar, optional\n",
      " |          Lower and upper bound for integration. Default is set to the\n",
      " |          support of the distribution.\n",
      " |      conditional : bool, optional\n",
      " |          If True, the integral is corrected by the conditional probability\n",
      " |          of the integration interval.  The return value is the expectation\n",
      " |          of the function, conditional on being in the given interval.\n",
      " |          Default is False.\n",
      " |      \n",
      " |      Additional keyword arguments are passed to the integration routine.\n",
      " |      \n",
      " |      Returns\n",
      " |      -------\n",
      " |      expect : float\n",
      " |          The calculated expected value.\n",
      " |      \n",
      " |      Notes\n",
      " |      -----\n",
      " |      The integration behavior of this function is inherited from\n",
      " |      `scipy.integrate.quad`. Neither this function nor\n",
      " |      `scipy.integrate.quad` can verify whether the integral exists or is\n",
      " |      finite. For example ``cauchy(0).mean()`` returns ``np.nan`` and\n",
      " |      ``cauchy(0).expect()`` returns ``0.0``.\n",
      " |      \n",
      " |      The function is not vectorized.\n",
      " |      \n",
      " |      Examples\n",
      " |      --------\n",
      " |      \n",
      " |      To understand the effect of the bounds of integration consider\n",
      " |      \n",
      " |      >>> from scipy.stats import expon\n",
      " |      >>> expon(1).expect(lambda x: 1, lb=0.0, ub=2.0)\n",
      " |      0.6321205588285578\n",
      " |      \n",
      " |      This is close to\n",
      " |      \n",
      " |      >>> expon(1).cdf(2.0) - expon(1).cdf(0.0)\n",
      " |      0.6321205588285577\n",
      " |      \n",
      " |      If ``conditional=True``\n",
      " |      \n",
      " |      >>> expon(1).expect(lambda x: 1, lb=0.0, ub=2.0, conditional=True)\n",
      " |      1.0000000000000002\n",
      " |      \n",
      " |      The slight deviation from 1 is due to numerical integration.\n",
      " |  \n",
      " |  fit(self, data, *args, **kwds)\n",
      " |      Return MLEs for shape (if applicable), location, and scale\n",
      " |      parameters from data.\n",
      " |      \n",
      " |      MLE stands for Maximum Likelihood Estimate.  Starting estimates for\n",
      " |      the fit are given by input arguments; for any arguments not provided\n",
      " |      with starting estimates, ``self._fitstart(data)`` is called to generate\n",
      " |      such.\n",
      " |      \n",
      " |      One can hold some parameters fixed to specific values by passing in\n",
      " |      keyword arguments ``f0``, ``f1``, ..., ``fn`` (for shape parameters)\n",
      " |      and ``floc`` and ``fscale`` (for location and scale parameters,\n",
      " |      respectively).\n",
      " |      \n",
      " |      Parameters\n",
      " |      ----------\n",
      " |      data : array_like\n",
      " |          Data to use in calculating the MLEs.\n",
      " |      arg1, arg2, arg3,... : floats, optional\n",
      " |          Starting value(s) for any shape-characterizing arguments (those not\n",
      " |          provided will be determined by a call to ``_fitstart(data)``).\n",
      " |          No default value.\n",
      " |      kwds : floats, optional\n",
      " |          - `loc`: initial guess of the distribution's location parameter.\n",
      " |          - `scale`: initial guess of the distribution's scale parameter.\n",
      " |      \n",
      " |          Special keyword arguments are recognized as holding certain\n",
      " |          parameters fixed:\n",
      " |      \n",
      " |          - f0...fn : hold respective shape parameters fixed.\n",
      " |            Alternatively, shape parameters to fix can be specified by name.\n",
      " |            For example, if ``self.shapes == \"a, b\"``, ``fa`` and ``fix_a``\n",
      " |            are equivalent to ``f0``, and ``fb`` and ``fix_b`` are\n",
      " |            equivalent to ``f1``.\n",
      " |      \n",
      " |          - floc : hold location parameter fixed to specified value.\n",
      " |      \n",
      " |          - fscale : hold scale parameter fixed to specified value.\n",
      " |      \n",
      " |          - optimizer : The optimizer to use.  The optimizer must take ``func``,\n",
      " |            and starting position as the first two arguments,\n",
      " |            plus ``args`` (for extra arguments to pass to the\n",
      " |            function to be optimized) and ``disp=0`` to suppress\n",
      " |            output as keyword arguments.\n",
      " |      \n",
      " |      Returns\n",
      " |      -------\n",
      " |      mle_tuple : tuple of floats\n",
      " |          MLEs for any shape parameters (if applicable), followed by those\n",
      " |          for location and scale. For most random variables, shape statistics\n",
      " |          will be returned, but there are exceptions (e.g. ``norm``).\n",
      " |      \n",
      " |      Notes\n",
      " |      -----\n",
      " |      This fit is computed by maximizing a log-likelihood function, with\n",
      " |      penalty applied for samples outside of range of the distribution. The\n",
      " |      returned answer is not guaranteed to be the globally optimal MLE, it\n",
      " |      may only be locally optimal, or the optimization may fail altogether.\n",
      " |      If the data contain any of np.nan, np.inf, or -np.inf, the fit routine\n",
      " |      will throw a RuntimeError.\n",
      " |      \n",
      " |      Examples\n",
      " |      --------\n",
      " |      \n",
      " |      Generate some data to fit: draw random variates from the `beta`\n",
      " |      distribution\n",
      " |      \n",
      " |      >>> from scipy.stats import beta\n",
      " |      >>> a, b = 1., 2.\n",
      " |      >>> x = beta.rvs(a, b, size=1000)\n",
      " |      \n",
      " |      Now we can fit all four parameters (``a``, ``b``, ``loc`` and ``scale``):\n",
      " |      \n",
      " |      >>> a1, b1, loc1, scale1 = beta.fit(x)\n",
      " |      \n",
      " |      We can also use some prior knowledge about the dataset: let's keep\n",
      " |      ``loc`` and ``scale`` fixed:\n",
      " |      \n",
      " |      >>> a1, b1, loc1, scale1 = beta.fit(x, floc=0, fscale=1)\n",
      " |      >>> loc1, scale1\n",
      " |      (0, 1)\n",
      " |      \n",
      " |      We can also keep shape parameters fixed by using ``f``-keywords. To\n",
      " |      keep the zero-th shape parameter ``a`` equal 1, use ``f0=1`` or,\n",
      " |      equivalently, ``fa=1``:\n",
      " |      \n",
      " |      >>> a1, b1, loc1, scale1 = beta.fit(x, fa=1, floc=0, fscale=1)\n",
      " |      >>> a1\n",
      " |      1\n",
      " |      \n",
      " |      Not all distributions return estimates for the shape parameters.\n",
      " |      ``norm`` for example just returns estimates for location and scale:\n",
      " |      \n",
      " |      >>> from scipy.stats import norm\n",
      " |      >>> x = norm.rvs(a, b, size=1000, random_state=123)\n",
      " |      >>> loc1, scale1 = norm.fit(x)\n",
      " |      >>> loc1, scale1\n",
      " |      (0.92087172783841631, 2.0015750750324668)\n",
      " |  \n",
      " |  fit_loc_scale(self, data, *args)\n",
      " |      Estimate loc and scale parameters from data using 1st and 2nd moments.\n",
      " |      \n",
      " |      Parameters\n",
      " |      ----------\n",
      " |      data : array_like\n",
      " |          Data to fit.\n",
      " |      arg1, arg2, arg3,... : array_like\n",
      " |          The shape parameter(s) for the distribution (see docstring of the\n",
      " |          instance object for more information).\n",
      " |      \n",
      " |      Returns\n",
      " |      -------\n",
      " |      Lhat : float\n",
      " |          Estimated location parameter for the data.\n",
      " |      Shat : float\n",
      " |          Estimated scale parameter for the data.\n",
      " |  \n",
      " |  isf(self, q, *args, **kwds)\n",
      " |      Inverse survival function (inverse of `sf`) at q of the given RV.\n",
      " |      \n",
      " |      Parameters\n",
      " |      ----------\n",
      " |      q : array_like\n",
      " |          upper tail probability\n",
      " |      arg1, arg2, arg3,... : array_like\n",
      " |          The shape parameter(s) for the distribution (see docstring of the\n",
      " |          instance object for more information)\n",
      " |      loc : array_like, optional\n",
      " |          location parameter (default=0)\n",
      " |      scale : array_like, optional\n",
      " |          scale parameter (default=1)\n",
      " |      \n",
      " |      Returns\n",
      " |      -------\n",
      " |      x : ndarray or scalar\n",
      " |          Quantile corresponding to the upper tail probability q.\n",
      " |  \n",
      " |  logcdf(self, x, *args, **kwds)\n",
      " |      Log of the cumulative distribution function at x of the given RV.\n",
      " |      \n",
      " |      Parameters\n",
      " |      ----------\n",
      " |      x : array_like\n",
      " |          quantiles\n",
      " |      arg1, arg2, arg3,... : array_like\n",
      " |          The shape parameter(s) for the distribution (see docstring of the\n",
      " |          instance object for more information)\n",
      " |      loc : array_like, optional\n",
      " |          location parameter (default=0)\n",
      " |      scale : array_like, optional\n",
      " |          scale parameter (default=1)\n",
      " |      \n",
      " |      Returns\n",
      " |      -------\n",
      " |      logcdf : array_like\n",
      " |          Log of the cumulative distribution function evaluated at x\n",
      " |  \n",
      " |  logpdf(self, x, *args, **kwds)\n",
      " |      Log of the probability density function at x of the given RV.\n",
      " |      \n",
      " |      This uses a more numerically accurate calculation if available.\n",
      " |      \n",
      " |      Parameters\n",
      " |      ----------\n",
      " |      x : array_like\n",
      " |          quantiles\n",
      " |      arg1, arg2, arg3,... : array_like\n",
      " |          The shape parameter(s) for the distribution (see docstring of the\n",
      " |          instance object for more information)\n",
      " |      loc : array_like, optional\n",
      " |          location parameter (default=0)\n",
      " |      scale : array_like, optional\n",
      " |          scale parameter (default=1)\n",
      " |      \n",
      " |      Returns\n",
      " |      -------\n",
      " |      logpdf : array_like\n",
      " |          Log of the probability density function evaluated at x\n",
      " |  \n",
      " |  logsf(self, x, *args, **kwds)\n",
      " |      Log of the survival function of the given RV.\n",
      " |      \n",
      " |      Returns the log of the \"survival function,\" defined as (1 - `cdf`),\n",
      " |      evaluated at `x`.\n",
      " |      \n",
      " |      Parameters\n",
      " |      ----------\n",
      " |      x : array_like\n",
      " |          quantiles\n",
      " |      arg1, arg2, arg3,... : array_like\n",
      " |          The shape parameter(s) for the distribution (see docstring of the\n",
      " |          instance object for more information)\n",
      " |      loc : array_like, optional\n",
      " |          location parameter (default=0)\n",
      " |      scale : array_like, optional\n",
      " |          scale parameter (default=1)\n",
      " |      \n",
      " |      Returns\n",
      " |      -------\n",
      " |      logsf : ndarray\n",
      " |          Log of the survival function evaluated at `x`.\n",
      " |  \n",
      " |  nnlf(self, theta, x)\n",
      " |      Return negative loglikelihood function.\n",
      " |      \n",
      " |      Notes\n",
      " |      -----\n",
      " |      This is ``-sum(log pdf(x, theta), axis=0)`` where `theta` are the\n",
      " |      parameters (including loc and scale).\n",
      " |  \n",
      " |  pdf(self, x, *args, **kwds)\n",
      " |      Probability density function at x of the given RV.\n",
      " |      \n",
      " |      Parameters\n",
      " |      ----------\n",
      " |      x : array_like\n",
      " |          quantiles\n",
      " |      arg1, arg2, arg3,... : array_like\n",
      " |          The shape parameter(s) for the distribution (see docstring of the\n",
      " |          instance object for more information)\n",
      " |      loc : array_like, optional\n",
      " |          location parameter (default=0)\n",
      " |      scale : array_like, optional\n",
      " |          scale parameter (default=1)\n",
      " |      \n",
      " |      Returns\n",
      " |      -------\n",
      " |      pdf : ndarray\n",
      " |          Probability density function evaluated at x\n",
      " |  \n",
      " |  ppf(self, q, *args, **kwds)\n",
      " |      Percent point function (inverse of `cdf`) at q of the given RV.\n",
      " |      \n",
      " |      Parameters\n",
      " |      ----------\n",
      " |      q : array_like\n",
      " |          lower tail probability\n",
      " |      arg1, arg2, arg3,... : array_like\n",
      " |          The shape parameter(s) for the distribution (see docstring of the\n",
      " |          instance object for more information)\n",
      " |      loc : array_like, optional\n",
      " |          location parameter (default=0)\n",
      " |      scale : array_like, optional\n",
      " |          scale parameter (default=1)\n",
      " |      \n",
      " |      Returns\n",
      " |      -------\n",
      " |      x : array_like\n",
      " |          quantile corresponding to the lower tail probability q.\n",
      " |  \n",
      " |  sf(self, x, *args, **kwds)\n",
      " |      Survival function (1 - `cdf`) at x of the given RV.\n",
      " |      \n",
      " |      Parameters\n",
      " |      ----------\n",
      " |      x : array_like\n",
      " |          quantiles\n",
      " |      arg1, arg2, arg3,... : array_like\n",
      " |          The shape parameter(s) for the distribution (see docstring of the\n",
      " |          instance object for more information)\n",
      " |      loc : array_like, optional\n",
      " |          location parameter (default=0)\n",
      " |      scale : array_like, optional\n",
      " |          scale parameter (default=1)\n",
      " |      \n",
      " |      Returns\n",
      " |      -------\n",
      " |      sf : array_like\n",
      " |          Survival function evaluated at x\n",
      " |  \n",
      " |  ----------------------------------------------------------------------\n",
      " |  Methods inherited from scipy.stats._distn_infrastructure.rv_generic:\n",
      " |  \n",
      " |  __call__(self, *args, **kwds)\n",
      " |      Freeze the distribution for the given arguments.\n",
      " |      \n",
      " |      Parameters\n",
      " |      ----------\n",
      " |      arg1, arg2, arg3,... : array_like\n",
      " |          The shape parameter(s) for the distribution.  Should include all\n",
      " |          the non-optional arguments, may include ``loc`` and ``scale``.\n",
      " |      \n",
      " |      Returns\n",
      " |      -------\n",
      " |      rv_frozen : rv_frozen instance\n",
      " |          The frozen distribution.\n",
      " |  \n",
      " |  __getstate__(self)\n",
      " |  \n",
      " |  __setstate__(self, state)\n",
      " |  \n",
      " |  entropy(self, *args, **kwds)\n",
      " |      Differential entropy of the RV.\n",
      " |      \n",
      " |      Parameters\n",
      " |      ----------\n",
      " |      arg1, arg2, arg3,... : array_like\n",
      " |          The shape parameter(s) for the distribution (see docstring of the\n",
      " |          instance object for more information).\n",
      " |      loc : array_like, optional\n",
      " |          Location parameter (default=0).\n",
      " |      scale : array_like, optional  (continuous distributions only).\n",
      " |          Scale parameter (default=1).\n",
      " |      \n",
      " |      Notes\n",
      " |      -----\n",
      " |      Entropy is defined base `e`:\n",
      " |      \n",
      " |      >>> drv = rv_discrete(values=((0, 1), (0.5, 0.5)))\n",
      " |      >>> np.allclose(drv.entropy(), np.log(2.0))\n",
      " |      True\n",
      " |  \n",
      " |  freeze(self, *args, **kwds)\n",
      " |      Freeze the distribution for the given arguments.\n",
      " |      \n",
      " |      Parameters\n",
      " |      ----------\n",
      " |      arg1, arg2, arg3,... : array_like\n",
      " |          The shape parameter(s) for the distribution.  Should include all\n",
      " |          the non-optional arguments, may include ``loc`` and ``scale``.\n",
      " |      \n",
      " |      Returns\n",
      " |      -------\n",
      " |      rv_frozen : rv_frozen instance\n",
      " |          The frozen distribution.\n",
      " |  \n",
      " |  interval(self, alpha, *args, **kwds)\n",
      " |      Confidence interval with equal areas around the median.\n",
      " |      \n",
      " |      Parameters\n",
      " |      ----------\n",
      " |      alpha : array_like of float\n",
      " |          Probability that an rv will be drawn from the returned range.\n",
      " |          Each value should be in the range [0, 1].\n",
      " |      arg1, arg2, ... : array_like\n",
      " |          The shape parameter(s) for the distribution (see docstring of the\n",
      " |          instance object for more information).\n",
      " |      loc : array_like, optional\n",
      " |          location parameter, Default is 0.\n",
      " |      scale : array_like, optional\n",
      " |          scale parameter, Default is 1.\n",
      " |      \n",
      " |      Returns\n",
      " |      -------\n",
      " |      a, b : ndarray of float\n",
      " |          end-points of range that contain ``100 * alpha %`` of the rv's\n",
      " |          possible values.\n",
      " |  \n",
      " |  mean(self, *args, **kwds)\n",
      " |      Mean of the distribution.\n",
      " |      \n",
      " |      Parameters\n",
      " |      ----------\n",
      " |      arg1, arg2, arg3,... : array_like\n",
      " |          The shape parameter(s) for the distribution (see docstring of the\n",
      " |          instance object for more information)\n",
      " |      loc : array_like, optional\n",
      " |          location parameter (default=0)\n",
      " |      scale : array_like, optional\n",
      " |          scale parameter (default=1)\n",
      " |      \n",
      " |      Returns\n",
      " |      -------\n",
      " |      mean : float\n",
      " |          the mean of the distribution\n",
      " |  \n",
      " |  median(self, *args, **kwds)\n",
      " |      Median of the distribution.\n",
      " |      \n",
      " |      Parameters\n",
      " |      ----------\n",
      " |      arg1, arg2, arg3,... : array_like\n",
      " |          The shape parameter(s) for the distribution (see docstring of the\n",
      " |          instance object for more information)\n",
      " |      loc : array_like, optional\n",
      " |          Location parameter, Default is 0.\n",
      " |      scale : array_like, optional\n",
      " |          Scale parameter, Default is 1.\n",
      " |      \n",
      " |      Returns\n",
      " |      -------\n",
      " |      median : float\n",
      " |          The median of the distribution.\n",
      " |      \n",
      " |      See Also\n",
      " |      --------\n",
      " |      rv_discrete.ppf\n",
      " |          Inverse of the CDF\n",
      " |  \n",
      " |  moment(self, n, *args, **kwds)\n",
      " |      n-th order non-central moment of distribution.\n",
      " |      \n",
      " |      Parameters\n",
      " |      ----------\n",
      " |      n : int, n >= 1\n",
      " |          Order of moment.\n",
      " |      arg1, arg2, arg3,... : float\n",
      " |          The shape parameter(s) for the distribution (see docstring of the\n",
      " |          instance object for more information).\n",
      " |      loc : array_like, optional\n",
      " |          location parameter (default=0)\n",
      " |      scale : array_like, optional\n",
      " |          scale parameter (default=1)\n",
      " |  \n",
      " |  rvs(self, *args, **kwds)\n",
      " |      Random variates of given type.\n",
      " |      \n",
      " |      Parameters\n",
      " |      ----------\n",
      " |      arg1, arg2, arg3,... : array_like\n",
      " |          The shape parameter(s) for the distribution (see docstring of the\n",
      " |          instance object for more information).\n",
      " |      loc : array_like, optional\n",
      " |          Location parameter (default=0).\n",
      " |      scale : array_like, optional\n",
      " |          Scale parameter (default=1).\n",
      " |      size : int or tuple of ints, optional\n",
      " |          Defining number of random variates (default is 1).\n",
      " |      random_state : {None, int, `~np.random.RandomState`, `~np.random.Generator`}, optional\n",
      " |          If `seed` is `None` the `~np.random.RandomState` singleton is used.\n",
      " |          If `seed` is an int, a new ``RandomState`` instance is used, seeded\n",
      " |          with seed.\n",
      " |          If `seed` is already a ``RandomState`` or ``Generator`` instance,\n",
      " |          then that object is used.\n",
      " |          Default is None.\n",
      " |      \n",
      " |      Returns\n",
      " |      -------\n",
      " |      rvs : ndarray or scalar\n",
      " |          Random variates of given `size`.\n",
      " |  \n",
      " |  stats(self, *args, **kwds)\n",
      " |      Some statistics of the given RV.\n",
      " |      \n",
      " |      Parameters\n",
      " |      ----------\n",
      " |      arg1, arg2, arg3,... : array_like\n",
      " |          The shape parameter(s) for the distribution (see docstring of the\n",
      " |          instance object for more information)\n",
      " |      loc : array_like, optional\n",
      " |          location parameter (default=0)\n",
      " |      scale : array_like, optional (continuous RVs only)\n",
      " |          scale parameter (default=1)\n",
      " |      moments : str, optional\n",
      " |          composed of letters ['mvsk'] defining which moments to compute:\n",
      " |          'm' = mean,\n",
      " |          'v' = variance,\n",
      " |          's' = (Fisher's) skew,\n",
      " |          'k' = (Fisher's) kurtosis.\n",
      " |          (default is 'mv')\n",
      " |      \n",
      " |      Returns\n",
      " |      -------\n",
      " |      stats : sequence\n",
      " |          of requested moments.\n",
      " |  \n",
      " |  std(self, *args, **kwds)\n",
      " |      Standard deviation of the distribution.\n",
      " |      \n",
      " |      Parameters\n",
      " |      ----------\n",
      " |      arg1, arg2, arg3,... : array_like\n",
      " |          The shape parameter(s) for the distribution (see docstring of the\n",
      " |          instance object for more information)\n",
      " |      loc : array_like, optional\n",
      " |          location parameter (default=0)\n",
      " |      scale : array_like, optional\n",
      " |          scale parameter (default=1)\n",
      " |      \n",
      " |      Returns\n",
      " |      -------\n",
      " |      std : float\n",
      " |          standard deviation of the distribution\n",
      " |  \n",
      " |  support(self, *args, **kwargs)\n",
      " |      Return the support of the distribution.\n",
      " |      \n",
      " |      Parameters\n",
      " |      ----------\n",
      " |      arg1, arg2, ... : array_like\n",
      " |          The shape parameter(s) for the distribution (see docstring of the\n",
      " |          instance object for more information).\n",
      " |      loc : array_like, optional\n",
      " |          location parameter, Default is 0.\n",
      " |      scale : array_like, optional\n",
      " |          scale parameter, Default is 1.\n",
      " |      Returns\n",
      " |      -------\n",
      " |      a, b : float\n",
      " |          end-points of the distribution's support.\n",
      " |  \n",
      " |  var(self, *args, **kwds)\n",
      " |      Variance of the distribution.\n",
      " |      \n",
      " |      Parameters\n",
      " |      ----------\n",
      " |      arg1, arg2, arg3,... : array_like\n",
      " |          The shape parameter(s) for the distribution (see docstring of the\n",
      " |          instance object for more information)\n",
      " |      loc : array_like, optional\n",
      " |          location parameter (default=0)\n",
      " |      scale : array_like, optional\n",
      " |          scale parameter (default=1)\n",
      " |      \n",
      " |      Returns\n",
      " |      -------\n",
      " |      var : float\n",
      " |          the variance of the distribution\n",
      " |  \n",
      " |  ----------------------------------------------------------------------\n",
      " |  Data descriptors inherited from scipy.stats._distn_infrastructure.rv_generic:\n",
      " |  \n",
      " |  __dict__\n",
      " |      dictionary for instance variables (if defined)\n",
      " |  \n",
      " |  __weakref__\n",
      " |      list of weak references to the object (if defined)\n",
      " |  \n",
      " |  random_state\n",
      " |      Get or set the RandomState object for generating random variates.\n",
      " |      \n",
      " |      This can be either None, int, a RandomState instance, or a\n",
      " |      np.random.Generator instance.\n",
      " |      \n",
      " |      If None (or np.random), use the RandomState singleton used by np.random.\n",
      " |      If already a RandomState or Generator instance, use it.\n",
      " |      If an int, use a new RandomState instance seeded with seed.\n",
      "\n"
     ]
    }
   ],
   "source": [
    "help(stats.levy_stable)"
   ]
  },
  {
   "cell_type": "code",
   "execution_count": null,
   "metadata": {},
   "outputs": [],
   "source": []
  }
 ],
 "metadata": {
  "kernelspec": {
   "display_name": "replay_trajectory_paper",
   "language": "python",
   "name": "python3"
  },
  "language_info": {
   "codemirror_mode": {
    "name": "ipython",
    "version": 3
   },
   "file_extension": ".py",
   "mimetype": "text/x-python",
   "name": "python",
   "nbconvert_exporter": "python",
   "pygments_lexer": "ipython3",
   "version": "3.6.13"
  },
  "orig_nbformat": 4
 },
 "nbformat": 4,
 "nbformat_minor": 2
}
