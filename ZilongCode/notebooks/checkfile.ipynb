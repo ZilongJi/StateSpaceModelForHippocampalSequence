{
 "cells": [
  {
   "cell_type": "code",
   "execution_count": 9,
   "metadata": {},
   "outputs": [],
   "source": [
    "from loren_frank_data_processing import (make_epochs_dataframe,\n",
    "                                         make_neuron_dataframe)\n",
    "from src.parameters import (ANIMALS, MAX_N_EXPOSURES, MIN_N_NEURONS, _BRAIN_AREAS)  "
   ]
  },
  {
   "cell_type": "code",
   "execution_count": 23,
   "metadata": {},
   "outputs": [],
   "source": [
    "epoch_info = make_epochs_dataframe(ANIMALS)\n",
    "neuron_info = make_neuron_dataframe(ANIMALS)\n",
    "n_neurons = (neuron_info\n",
    "                .groupby(['animal', 'day', 'epoch'])\n",
    "                .neuron_id\n",
    "                .agg(len)\n",
    "                .rename('n_neurons')\n",
    "                .to_frame())\n",
    "\n",
    "epoch_info = epoch_info.join(n_neurons)\n",
    "is_w_track = (epoch_info.environment\n",
    "                .isin(['TrackA', 'TrackB', 'WTrackA', 'WTrackB']))\n",
    "\n",
    "valid_epochs1 = epoch_info[(is_w_track &\n",
    "                (epoch_info.n_neurons > MIN_N_NEURONS) &\n",
    "                (epoch_info.exposure <= MAX_N_EXPOSURES)\n",
    "                )]"
   ]
  },
  {
   "cell_type": "code",
   "execution_count": 15,
   "metadata": {},
   "outputs": [],
   "source": [
    "epoch_info = make_epochs_dataframe(ANIMALS)\n",
    "neuron_info = make_neuron_dataframe(ANIMALS)\n",
    "neuron_info = neuron_info.loc[\n",
    "    (neuron_info.type == 'principal') &\n",
    "    (neuron_info.numspikes > 100) &\n",
    "    neuron_info.area.isin(_BRAIN_AREAS)]\n",
    "n_neurons = (neuron_info\n",
    "                .groupby(['animal', 'day', 'epoch'])\n",
    "                .neuron_id\n",
    "                .agg(len)\n",
    "                .rename('n_neurons')\n",
    "                .to_frame())\n",
    "\n",
    "epoch_info = epoch_info.join(n_neurons)\n",
    "is_w_track = (epoch_info.environment\n",
    "                .isin(['TrackA', 'TrackB', 'WTrackA', 'WTrackB']))\n",
    "\n",
    "valid_epochs2 = epoch_info[is_w_track & (epoch_info.n_neurons > 9)]"
   ]
  },
  {
   "cell_type": "code",
   "execution_count": 36,
   "metadata": {},
   "outputs": [],
   "source": [
    "#check if valid_epochs2's index is a subset of valid_epochs1's index, with index contains bon only\n",
    "valid_epochs2.index.isin(valid_epochs1.index).all()\n",
    "\n",
    "\n",
    "BBB1 = valid_epochs1.loc['cha']\n",
    "#get bon index from valid_epochs2\n",
    "BBB2 = valid_epochs2.loc['cha']\n",
    "\n"
   ]
  },
  {
   "cell_type": "code",
   "execution_count": 32,
   "metadata": {},
   "outputs": [],
   "source": [
    "AAA3 = neuron_info.loc['fra', 6, 2]"
   ]
  },
  {
   "cell_type": "code",
   "execution_count": null,
   "metadata": {},
   "outputs": [],
   "source": []
  },
  {
   "cell_type": "code",
   "execution_count": null,
   "metadata": {},
   "outputs": [],
   "source": []
  }
 ],
 "metadata": {
  "kernelspec": {
   "display_name": "replay_trajectory_paper",
   "language": "python",
   "name": "python3"
  },
  "language_info": {
   "codemirror_mode": {
    "name": "ipython",
    "version": 3
   },
   "file_extension": ".py",
   "mimetype": "text/x-python",
   "name": "python",
   "nbconvert_exporter": "python",
   "pygments_lexer": "ipython3",
   "version": "3.6.13"
  },
  "orig_nbformat": 4
 },
 "nbformat": 4,
 "nbformat_minor": 2
}
